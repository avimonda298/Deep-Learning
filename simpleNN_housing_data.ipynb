{
  "nbformat": 4,
  "nbformat_minor": 0,
  "metadata": {
    "colab": {
      "provenance": [],
      "include_colab_link": true
    },
    "kernelspec": {
      "name": "python3",
      "display_name": "Python 3"
    },
    "language_info": {
      "name": "python"
    }
  },
  "cells": [
    {
      "cell_type": "markdown",
      "metadata": {
        "id": "view-in-github",
        "colab_type": "text"
      },
      "source": [
        "<a href=\"https://colab.research.google.com/github/avimonda298/Deep-Learning/blob/main/simpleNN_housing_data.ipynb\" target=\"_parent\"><img src=\"https://colab.research.google.com/assets/colab-badge.svg\" alt=\"Open In Colab\"/></a>"
      ]
    },
    {
      "cell_type": "code",
      "source": [
        "# Last amended: 27th Nov, 2022\n",
        "# California Housing Dataset\n",
        "# Experiments with NN\n",
        "# https://www.kaggle.com/datasets/camnugent/california-housing-prices"
      ],
      "metadata": {
        "id": "VDuKXUJ_L8S2"
      },
      "execution_count": null,
      "outputs": []
    },
    {
      "cell_type": "code",
      "execution_count": null,
      "metadata": {
        "id": "t4NDs_JPESg_"
      },
      "outputs": [],
      "source": [
        "# 1.0\n",
        "import pandas as pd\n",
        "from sklearn.preprocessing import StandardScaler\n",
        "from sklearn.preprocessing import LabelEncoder\n",
        "from sklearn.model_selection import train_test_split\n",
        "\n",
        "# 1.1\n",
        "import tensorflow as tf\n",
        "\n",
        "# 1.2 Helper libraries\n",
        "import numpy as np\n",
        "import matplotlib.pyplot as plt\n"
      ]
    },
    {
      "cell_type": "code",
      "source": [
        "# 2.0 Mount google drive \n",
        "from google.colab import drive\n",
        "drive.mount('/gdrive')"
      ],
      "metadata": {
        "id": "11UKqlGTu9ka",
        "outputId": "678fcdab-1209-45fd-d6bb-c738432feae7",
        "colab": {
          "base_uri": "https://localhost:8080/"
        }
      },
      "execution_count": null,
      "outputs": [
        {
          "output_type": "stream",
          "name": "stdout",
          "text": [
            "Mounted at /gdrive\n"
          ]
        }
      ]
    },
    {
      "cell_type": "code",
      "source": [
        "# 2.1 Read FASHION-MNIST data\n",
        "\n",
        "path = \"/gdrive/MyDrive/Colab_data_files/california_housing_dataset/\"\n"
      ],
      "metadata": {
        "id": "e_KwcYMREcUy"
      },
      "execution_count": null,
      "outputs": []
    },
    {
      "cell_type": "code",
      "source": [
        "# 2.2\n",
        "data = pd.read_csv(path + \"housing.csv\")"
      ],
      "metadata": {
        "id": "lnhu8ZR5wznf"
      },
      "execution_count": null,
      "outputs": []
    },
    {
      "cell_type": "code",
      "source": [
        "# 2.2.1\n",
        "data.head()"
      ],
      "metadata": {
        "id": "kV5KxQnLvimq",
        "outputId": "5c7995aa-9647-4988-c821-8bb2c60f4b9b",
        "colab": {
          "base_uri": "https://localhost:8080/",
          "height": 206
        }
      },
      "execution_count": null,
      "outputs": [
        {
          "output_type": "execute_result",
          "data": {
            "text/plain": [
              "   longitude  latitude  housing_median_age  total_rooms  total_bedrooms  \\\n",
              "0    -122.23     37.88                41.0        880.0           129.0   \n",
              "1    -122.22     37.86                21.0       7099.0          1106.0   \n",
              "2    -122.24     37.85                52.0       1467.0           190.0   \n",
              "3    -122.25     37.85                52.0       1274.0           235.0   \n",
              "4    -122.25     37.85                52.0       1627.0           280.0   \n",
              "\n",
              "   population  households  median_income  median_house_value ocean_proximity  \n",
              "0       322.0       126.0         8.3252            452600.0        NEAR BAY  \n",
              "1      2401.0      1138.0         8.3014            358500.0        NEAR BAY  \n",
              "2       496.0       177.0         7.2574            352100.0        NEAR BAY  \n",
              "3       558.0       219.0         5.6431            341300.0        NEAR BAY  \n",
              "4       565.0       259.0         3.8462            342200.0        NEAR BAY  "
            ],
            "text/html": [
              "\n",
              "  <div id=\"df-72587de8-1fe2-4e9f-961f-7d214ea0b188\">\n",
              "    <div class=\"colab-df-container\">\n",
              "      <div>\n",
              "<style scoped>\n",
              "    .dataframe tbody tr th:only-of-type {\n",
              "        vertical-align: middle;\n",
              "    }\n",
              "\n",
              "    .dataframe tbody tr th {\n",
              "        vertical-align: top;\n",
              "    }\n",
              "\n",
              "    .dataframe thead th {\n",
              "        text-align: right;\n",
              "    }\n",
              "</style>\n",
              "<table border=\"1\" class=\"dataframe\">\n",
              "  <thead>\n",
              "    <tr style=\"text-align: right;\">\n",
              "      <th></th>\n",
              "      <th>longitude</th>\n",
              "      <th>latitude</th>\n",
              "      <th>housing_median_age</th>\n",
              "      <th>total_rooms</th>\n",
              "      <th>total_bedrooms</th>\n",
              "      <th>population</th>\n",
              "      <th>households</th>\n",
              "      <th>median_income</th>\n",
              "      <th>median_house_value</th>\n",
              "      <th>ocean_proximity</th>\n",
              "    </tr>\n",
              "  </thead>\n",
              "  <tbody>\n",
              "    <tr>\n",
              "      <th>0</th>\n",
              "      <td>-122.23</td>\n",
              "      <td>37.88</td>\n",
              "      <td>41.0</td>\n",
              "      <td>880.0</td>\n",
              "      <td>129.0</td>\n",
              "      <td>322.0</td>\n",
              "      <td>126.0</td>\n",
              "      <td>8.3252</td>\n",
              "      <td>452600.0</td>\n",
              "      <td>NEAR BAY</td>\n",
              "    </tr>\n",
              "    <tr>\n",
              "      <th>1</th>\n",
              "      <td>-122.22</td>\n",
              "      <td>37.86</td>\n",
              "      <td>21.0</td>\n",
              "      <td>7099.0</td>\n",
              "      <td>1106.0</td>\n",
              "      <td>2401.0</td>\n",
              "      <td>1138.0</td>\n",
              "      <td>8.3014</td>\n",
              "      <td>358500.0</td>\n",
              "      <td>NEAR BAY</td>\n",
              "    </tr>\n",
              "    <tr>\n",
              "      <th>2</th>\n",
              "      <td>-122.24</td>\n",
              "      <td>37.85</td>\n",
              "      <td>52.0</td>\n",
              "      <td>1467.0</td>\n",
              "      <td>190.0</td>\n",
              "      <td>496.0</td>\n",
              "      <td>177.0</td>\n",
              "      <td>7.2574</td>\n",
              "      <td>352100.0</td>\n",
              "      <td>NEAR BAY</td>\n",
              "    </tr>\n",
              "    <tr>\n",
              "      <th>3</th>\n",
              "      <td>-122.25</td>\n",
              "      <td>37.85</td>\n",
              "      <td>52.0</td>\n",
              "      <td>1274.0</td>\n",
              "      <td>235.0</td>\n",
              "      <td>558.0</td>\n",
              "      <td>219.0</td>\n",
              "      <td>5.6431</td>\n",
              "      <td>341300.0</td>\n",
              "      <td>NEAR BAY</td>\n",
              "    </tr>\n",
              "    <tr>\n",
              "      <th>4</th>\n",
              "      <td>-122.25</td>\n",
              "      <td>37.85</td>\n",
              "      <td>52.0</td>\n",
              "      <td>1627.0</td>\n",
              "      <td>280.0</td>\n",
              "      <td>565.0</td>\n",
              "      <td>259.0</td>\n",
              "      <td>3.8462</td>\n",
              "      <td>342200.0</td>\n",
              "      <td>NEAR BAY</td>\n",
              "    </tr>\n",
              "  </tbody>\n",
              "</table>\n",
              "</div>\n",
              "      <button class=\"colab-df-convert\" onclick=\"convertToInteractive('df-72587de8-1fe2-4e9f-961f-7d214ea0b188')\"\n",
              "              title=\"Convert this dataframe to an interactive table.\"\n",
              "              style=\"display:none;\">\n",
              "        \n",
              "  <svg xmlns=\"http://www.w3.org/2000/svg\" height=\"24px\"viewBox=\"0 0 24 24\"\n",
              "       width=\"24px\">\n",
              "    <path d=\"M0 0h24v24H0V0z\" fill=\"none\"/>\n",
              "    <path d=\"M18.56 5.44l.94 2.06.94-2.06 2.06-.94-2.06-.94-.94-2.06-.94 2.06-2.06.94zm-11 1L8.5 8.5l.94-2.06 2.06-.94-2.06-.94L8.5 2.5l-.94 2.06-2.06.94zm10 10l.94 2.06.94-2.06 2.06-.94-2.06-.94-.94-2.06-.94 2.06-2.06.94z\"/><path d=\"M17.41 7.96l-1.37-1.37c-.4-.4-.92-.59-1.43-.59-.52 0-1.04.2-1.43.59L10.3 9.45l-7.72 7.72c-.78.78-.78 2.05 0 2.83L4 21.41c.39.39.9.59 1.41.59.51 0 1.02-.2 1.41-.59l7.78-7.78 2.81-2.81c.8-.78.8-2.07 0-2.86zM5.41 20L4 18.59l7.72-7.72 1.47 1.35L5.41 20z\"/>\n",
              "  </svg>\n",
              "      </button>\n",
              "      \n",
              "  <style>\n",
              "    .colab-df-container {\n",
              "      display:flex;\n",
              "      flex-wrap:wrap;\n",
              "      gap: 12px;\n",
              "    }\n",
              "\n",
              "    .colab-df-convert {\n",
              "      background-color: #E8F0FE;\n",
              "      border: none;\n",
              "      border-radius: 50%;\n",
              "      cursor: pointer;\n",
              "      display: none;\n",
              "      fill: #1967D2;\n",
              "      height: 32px;\n",
              "      padding: 0 0 0 0;\n",
              "      width: 32px;\n",
              "    }\n",
              "\n",
              "    .colab-df-convert:hover {\n",
              "      background-color: #E2EBFA;\n",
              "      box-shadow: 0px 1px 2px rgba(60, 64, 67, 0.3), 0px 1px 3px 1px rgba(60, 64, 67, 0.15);\n",
              "      fill: #174EA6;\n",
              "    }\n",
              "\n",
              "    [theme=dark] .colab-df-convert {\n",
              "      background-color: #3B4455;\n",
              "      fill: #D2E3FC;\n",
              "    }\n",
              "\n",
              "    [theme=dark] .colab-df-convert:hover {\n",
              "      background-color: #434B5C;\n",
              "      box-shadow: 0px 1px 3px 1px rgba(0, 0, 0, 0.15);\n",
              "      filter: drop-shadow(0px 1px 2px rgba(0, 0, 0, 0.3));\n",
              "      fill: #FFFFFF;\n",
              "    }\n",
              "  </style>\n",
              "\n",
              "      <script>\n",
              "        const buttonEl =\n",
              "          document.querySelector('#df-72587de8-1fe2-4e9f-961f-7d214ea0b188 button.colab-df-convert');\n",
              "        buttonEl.style.display =\n",
              "          google.colab.kernel.accessAllowed ? 'block' : 'none';\n",
              "\n",
              "        async function convertToInteractive(key) {\n",
              "          const element = document.querySelector('#df-72587de8-1fe2-4e9f-961f-7d214ea0b188');\n",
              "          const dataTable =\n",
              "            await google.colab.kernel.invokeFunction('convertToInteractive',\n",
              "                                                     [key], {});\n",
              "          if (!dataTable) return;\n",
              "\n",
              "          const docLinkHtml = 'Like what you see? Visit the ' +\n",
              "            '<a target=\"_blank\" href=https://colab.research.google.com/notebooks/data_table.ipynb>data table notebook</a>'\n",
              "            + ' to learn more about interactive tables.';\n",
              "          element.innerHTML = '';\n",
              "          dataTable['output_type'] = 'display_data';\n",
              "          await google.colab.output.renderOutput(dataTable, element);\n",
              "          const docLink = document.createElement('div');\n",
              "          docLink.innerHTML = docLinkHtml;\n",
              "          element.appendChild(docLink);\n",
              "        }\n",
              "      </script>\n",
              "    </div>\n",
              "  </div>\n",
              "  "
            ]
          },
          "metadata": {},
          "execution_count": 5
        }
      ]
    },
    {
      "cell_type": "code",
      "source": [
        "# 2.2.2\n",
        "data.shape"
      ],
      "metadata": {
        "id": "xvzzZC1_vlP9",
        "outputId": "57279104-c02c-4203-a9b5-4287bc7053ab",
        "colab": {
          "base_uri": "https://localhost:8080/"
        }
      },
      "execution_count": null,
      "outputs": [
        {
          "output_type": "execute_result",
          "data": {
            "text/plain": [
              "(20640, 10)"
            ]
          },
          "metadata": {},
          "execution_count": 6
        }
      ]
    },
    {
      "cell_type": "code",
      "source": [
        "# 2.3 Pop out target\n",
        "y = data.pop('median_house_value')"
      ],
      "metadata": {
        "id": "N3KCovgwEtmt"
      },
      "execution_count": null,
      "outputs": []
    },
    {
      "cell_type": "code",
      "source": [
        "# 2.3.1\n",
        "data.shape   # (20640, 9)"
      ],
      "metadata": {
        "colab": {
          "base_uri": "https://localhost:8080/"
        },
        "id": "GmDd06fNJjsM",
        "outputId": "ed61afb5-3746-465b-bd40-62b2a3663521"
      },
      "execution_count": null,
      "outputs": [
        {
          "output_type": "execute_result",
          "data": {
            "text/plain": [
              "(20640, 9)"
            ]
          },
          "metadata": {},
          "execution_count": 8
        }
      ]
    },
    {
      "cell_type": "code",
      "source": [
        "# 3.0 Check NULL\n",
        "data.isnull().sum()"
      ],
      "metadata": {
        "id": "fG-9A9AN8MZp",
        "outputId": "68dc9fd5-e330-45e5-b862-851b74914a79",
        "colab": {
          "base_uri": "https://localhost:8080/"
        }
      },
      "execution_count": null,
      "outputs": [
        {
          "output_type": "execute_result",
          "data": {
            "text/plain": [
              "longitude               0\n",
              "latitude                0\n",
              "housing_median_age      0\n",
              "total_rooms             0\n",
              "total_bedrooms        207\n",
              "population              0\n",
              "households              0\n",
              "median_income           0\n",
              "ocean_proximity         0\n",
              "dtype: int64"
            ]
          },
          "metadata": {},
          "execution_count": 9
        }
      ]
    },
    {
      "cell_type": "code",
      "source": [
        "data['total_bedrooms'].median()"
      ],
      "metadata": {
        "id": "-GLH72NAtRw6",
        "outputId": "ff76907a-f1df-4bbb-ffbc-446620ae0853",
        "colab": {
          "base_uri": "https://localhost:8080/"
        }
      },
      "execution_count": null,
      "outputs": [
        {
          "output_type": "execute_result",
          "data": {
            "text/plain": [
              "435.0"
            ]
          },
          "metadata": {},
          "execution_count": 10
        }
      ]
    },
    {
      "cell_type": "code",
      "source": [
        "# 3.1 Fill null values with 'median'\n",
        "\n",
        "data['total_bedrooms']= data['total_bedrooms'].fillna(data['total_bedrooms'].median())"
      ],
      "metadata": {
        "id": "FhMy7EdU8Shr"
      },
      "execution_count": null,
      "outputs": []
    },
    {
      "cell_type": "code",
      "source": [
        "# 3.2\n",
        "data[:2]"
      ],
      "metadata": {
        "id": "WyDhQZsHJmMk",
        "outputId": "2720651c-8b9c-4f4b-aefb-d7f2bcd6b821",
        "colab": {
          "base_uri": "https://localhost:8080/",
          "height": 112
        }
      },
      "execution_count": null,
      "outputs": [
        {
          "output_type": "execute_result",
          "data": {
            "text/plain": [
              "   longitude  latitude  housing_median_age  total_rooms  total_bedrooms  \\\n",
              "0    -122.23     37.88                41.0        880.0           129.0   \n",
              "1    -122.22     37.86                21.0       7099.0          1106.0   \n",
              "\n",
              "   population  households  median_income ocean_proximity  \n",
              "0       322.0       126.0         8.3252        NEAR BAY  \n",
              "1      2401.0      1138.0         8.3014        NEAR BAY  "
            ],
            "text/html": [
              "\n",
              "  <div id=\"df-a8b783e0-b318-436a-b11d-b466f28e0a31\">\n",
              "    <div class=\"colab-df-container\">\n",
              "      <div>\n",
              "<style scoped>\n",
              "    .dataframe tbody tr th:only-of-type {\n",
              "        vertical-align: middle;\n",
              "    }\n",
              "\n",
              "    .dataframe tbody tr th {\n",
              "        vertical-align: top;\n",
              "    }\n",
              "\n",
              "    .dataframe thead th {\n",
              "        text-align: right;\n",
              "    }\n",
              "</style>\n",
              "<table border=\"1\" class=\"dataframe\">\n",
              "  <thead>\n",
              "    <tr style=\"text-align: right;\">\n",
              "      <th></th>\n",
              "      <th>longitude</th>\n",
              "      <th>latitude</th>\n",
              "      <th>housing_median_age</th>\n",
              "      <th>total_rooms</th>\n",
              "      <th>total_bedrooms</th>\n",
              "      <th>population</th>\n",
              "      <th>households</th>\n",
              "      <th>median_income</th>\n",
              "      <th>ocean_proximity</th>\n",
              "    </tr>\n",
              "  </thead>\n",
              "  <tbody>\n",
              "    <tr>\n",
              "      <th>0</th>\n",
              "      <td>-122.23</td>\n",
              "      <td>37.88</td>\n",
              "      <td>41.0</td>\n",
              "      <td>880.0</td>\n",
              "      <td>129.0</td>\n",
              "      <td>322.0</td>\n",
              "      <td>126.0</td>\n",
              "      <td>8.3252</td>\n",
              "      <td>NEAR BAY</td>\n",
              "    </tr>\n",
              "    <tr>\n",
              "      <th>1</th>\n",
              "      <td>-122.22</td>\n",
              "      <td>37.86</td>\n",
              "      <td>21.0</td>\n",
              "      <td>7099.0</td>\n",
              "      <td>1106.0</td>\n",
              "      <td>2401.0</td>\n",
              "      <td>1138.0</td>\n",
              "      <td>8.3014</td>\n",
              "      <td>NEAR BAY</td>\n",
              "    </tr>\n",
              "  </tbody>\n",
              "</table>\n",
              "</div>\n",
              "      <button class=\"colab-df-convert\" onclick=\"convertToInteractive('df-a8b783e0-b318-436a-b11d-b466f28e0a31')\"\n",
              "              title=\"Convert this dataframe to an interactive table.\"\n",
              "              style=\"display:none;\">\n",
              "        \n",
              "  <svg xmlns=\"http://www.w3.org/2000/svg\" height=\"24px\"viewBox=\"0 0 24 24\"\n",
              "       width=\"24px\">\n",
              "    <path d=\"M0 0h24v24H0V0z\" fill=\"none\"/>\n",
              "    <path d=\"M18.56 5.44l.94 2.06.94-2.06 2.06-.94-2.06-.94-.94-2.06-.94 2.06-2.06.94zm-11 1L8.5 8.5l.94-2.06 2.06-.94-2.06-.94L8.5 2.5l-.94 2.06-2.06.94zm10 10l.94 2.06.94-2.06 2.06-.94-2.06-.94-.94-2.06-.94 2.06-2.06.94z\"/><path d=\"M17.41 7.96l-1.37-1.37c-.4-.4-.92-.59-1.43-.59-.52 0-1.04.2-1.43.59L10.3 9.45l-7.72 7.72c-.78.78-.78 2.05 0 2.83L4 21.41c.39.39.9.59 1.41.59.51 0 1.02-.2 1.41-.59l7.78-7.78 2.81-2.81c.8-.78.8-2.07 0-2.86zM5.41 20L4 18.59l7.72-7.72 1.47 1.35L5.41 20z\"/>\n",
              "  </svg>\n",
              "      </button>\n",
              "      \n",
              "  <style>\n",
              "    .colab-df-container {\n",
              "      display:flex;\n",
              "      flex-wrap:wrap;\n",
              "      gap: 12px;\n",
              "    }\n",
              "\n",
              "    .colab-df-convert {\n",
              "      background-color: #E8F0FE;\n",
              "      border: none;\n",
              "      border-radius: 50%;\n",
              "      cursor: pointer;\n",
              "      display: none;\n",
              "      fill: #1967D2;\n",
              "      height: 32px;\n",
              "      padding: 0 0 0 0;\n",
              "      width: 32px;\n",
              "    }\n",
              "\n",
              "    .colab-df-convert:hover {\n",
              "      background-color: #E2EBFA;\n",
              "      box-shadow: 0px 1px 2px rgba(60, 64, 67, 0.3), 0px 1px 3px 1px rgba(60, 64, 67, 0.15);\n",
              "      fill: #174EA6;\n",
              "    }\n",
              "\n",
              "    [theme=dark] .colab-df-convert {\n",
              "      background-color: #3B4455;\n",
              "      fill: #D2E3FC;\n",
              "    }\n",
              "\n",
              "    [theme=dark] .colab-df-convert:hover {\n",
              "      background-color: #434B5C;\n",
              "      box-shadow: 0px 1px 3px 1px rgba(0, 0, 0, 0.15);\n",
              "      filter: drop-shadow(0px 1px 2px rgba(0, 0, 0, 0.3));\n",
              "      fill: #FFFFFF;\n",
              "    }\n",
              "  </style>\n",
              "\n",
              "      <script>\n",
              "        const buttonEl =\n",
              "          document.querySelector('#df-a8b783e0-b318-436a-b11d-b466f28e0a31 button.colab-df-convert');\n",
              "        buttonEl.style.display =\n",
              "          google.colab.kernel.accessAllowed ? 'block' : 'none';\n",
              "\n",
              "        async function convertToInteractive(key) {\n",
              "          const element = document.querySelector('#df-a8b783e0-b318-436a-b11d-b466f28e0a31');\n",
              "          const dataTable =\n",
              "            await google.colab.kernel.invokeFunction('convertToInteractive',\n",
              "                                                     [key], {});\n",
              "          if (!dataTable) return;\n",
              "\n",
              "          const docLinkHtml = 'Like what you see? Visit the ' +\n",
              "            '<a target=\"_blank\" href=https://colab.research.google.com/notebooks/data_table.ipynb>data table notebook</a>'\n",
              "            + ' to learn more about interactive tables.';\n",
              "          element.innerHTML = '';\n",
              "          dataTable['output_type'] = 'display_data';\n",
              "          await google.colab.output.renderOutput(dataTable, element);\n",
              "          const docLink = document.createElement('div');\n",
              "          docLink.innerHTML = docLinkHtml;\n",
              "          element.appendChild(docLink);\n",
              "        }\n",
              "      </script>\n",
              "    </div>\n",
              "  </div>\n",
              "  "
            ]
          },
          "metadata": {},
          "execution_count": 22
        }
      ]
    },
    {
      "cell_type": "code",
      "source": [
        "# 4.0\n",
        "# Label encode ocean_proximity:\n",
        " \n",
        "le = LabelEncoder()\n",
        "le.fit(data['ocean_proximity'])\n",
        "data['ocean_proximity'] = le.transform(data['ocean_proximity'])"
      ],
      "metadata": {
        "id": "xaM7F22l1hW5"
      },
      "execution_count": null,
      "outputs": []
    },
    {
      "cell_type": "code",
      "source": [
        "# 4.1 Check data again:\n",
        "data.head(3)"
      ],
      "metadata": {
        "id": "I8irUezG1yeE",
        "outputId": "01f29f03-cef9-495e-e72d-1adaa99d6e9d",
        "colab": {
          "base_uri": "https://localhost:8080/",
          "height": 143
        }
      },
      "execution_count": null,
      "outputs": [
        {
          "output_type": "execute_result",
          "data": {
            "text/plain": [
              "   longitude  latitude  housing_median_age  total_rooms  total_bedrooms  \\\n",
              "0    -122.23     37.88                41.0        880.0           129.0   \n",
              "1    -122.22     37.86                21.0       7099.0          1106.0   \n",
              "2    -122.24     37.85                52.0       1467.0           190.0   \n",
              "\n",
              "   population  households  median_income  ocean_proximity  \n",
              "0       322.0       126.0         8.3252                3  \n",
              "1      2401.0      1138.0         8.3014                3  \n",
              "2       496.0       177.0         7.2574                3  "
            ],
            "text/html": [
              "\n",
              "  <div id=\"df-9bf34c6a-a78b-4834-8c3d-d52fb02a9de7\">\n",
              "    <div class=\"colab-df-container\">\n",
              "      <div>\n",
              "<style scoped>\n",
              "    .dataframe tbody tr th:only-of-type {\n",
              "        vertical-align: middle;\n",
              "    }\n",
              "\n",
              "    .dataframe tbody tr th {\n",
              "        vertical-align: top;\n",
              "    }\n",
              "\n",
              "    .dataframe thead th {\n",
              "        text-align: right;\n",
              "    }\n",
              "</style>\n",
              "<table border=\"1\" class=\"dataframe\">\n",
              "  <thead>\n",
              "    <tr style=\"text-align: right;\">\n",
              "      <th></th>\n",
              "      <th>longitude</th>\n",
              "      <th>latitude</th>\n",
              "      <th>housing_median_age</th>\n",
              "      <th>total_rooms</th>\n",
              "      <th>total_bedrooms</th>\n",
              "      <th>population</th>\n",
              "      <th>households</th>\n",
              "      <th>median_income</th>\n",
              "      <th>ocean_proximity</th>\n",
              "    </tr>\n",
              "  </thead>\n",
              "  <tbody>\n",
              "    <tr>\n",
              "      <th>0</th>\n",
              "      <td>-122.23</td>\n",
              "      <td>37.88</td>\n",
              "      <td>41.0</td>\n",
              "      <td>880.0</td>\n",
              "      <td>129.0</td>\n",
              "      <td>322.0</td>\n",
              "      <td>126.0</td>\n",
              "      <td>8.3252</td>\n",
              "      <td>3</td>\n",
              "    </tr>\n",
              "    <tr>\n",
              "      <th>1</th>\n",
              "      <td>-122.22</td>\n",
              "      <td>37.86</td>\n",
              "      <td>21.0</td>\n",
              "      <td>7099.0</td>\n",
              "      <td>1106.0</td>\n",
              "      <td>2401.0</td>\n",
              "      <td>1138.0</td>\n",
              "      <td>8.3014</td>\n",
              "      <td>3</td>\n",
              "    </tr>\n",
              "    <tr>\n",
              "      <th>2</th>\n",
              "      <td>-122.24</td>\n",
              "      <td>37.85</td>\n",
              "      <td>52.0</td>\n",
              "      <td>1467.0</td>\n",
              "      <td>190.0</td>\n",
              "      <td>496.0</td>\n",
              "      <td>177.0</td>\n",
              "      <td>7.2574</td>\n",
              "      <td>3</td>\n",
              "    </tr>\n",
              "  </tbody>\n",
              "</table>\n",
              "</div>\n",
              "      <button class=\"colab-df-convert\" onclick=\"convertToInteractive('df-9bf34c6a-a78b-4834-8c3d-d52fb02a9de7')\"\n",
              "              title=\"Convert this dataframe to an interactive table.\"\n",
              "              style=\"display:none;\">\n",
              "        \n",
              "  <svg xmlns=\"http://www.w3.org/2000/svg\" height=\"24px\"viewBox=\"0 0 24 24\"\n",
              "       width=\"24px\">\n",
              "    <path d=\"M0 0h24v24H0V0z\" fill=\"none\"/>\n",
              "    <path d=\"M18.56 5.44l.94 2.06.94-2.06 2.06-.94-2.06-.94-.94-2.06-.94 2.06-2.06.94zm-11 1L8.5 8.5l.94-2.06 2.06-.94-2.06-.94L8.5 2.5l-.94 2.06-2.06.94zm10 10l.94 2.06.94-2.06 2.06-.94-2.06-.94-.94-2.06-.94 2.06-2.06.94z\"/><path d=\"M17.41 7.96l-1.37-1.37c-.4-.4-.92-.59-1.43-.59-.52 0-1.04.2-1.43.59L10.3 9.45l-7.72 7.72c-.78.78-.78 2.05 0 2.83L4 21.41c.39.39.9.59 1.41.59.51 0 1.02-.2 1.41-.59l7.78-7.78 2.81-2.81c.8-.78.8-2.07 0-2.86zM5.41 20L4 18.59l7.72-7.72 1.47 1.35L5.41 20z\"/>\n",
              "  </svg>\n",
              "      </button>\n",
              "      \n",
              "  <style>\n",
              "    .colab-df-container {\n",
              "      display:flex;\n",
              "      flex-wrap:wrap;\n",
              "      gap: 12px;\n",
              "    }\n",
              "\n",
              "    .colab-df-convert {\n",
              "      background-color: #E8F0FE;\n",
              "      border: none;\n",
              "      border-radius: 50%;\n",
              "      cursor: pointer;\n",
              "      display: none;\n",
              "      fill: #1967D2;\n",
              "      height: 32px;\n",
              "      padding: 0 0 0 0;\n",
              "      width: 32px;\n",
              "    }\n",
              "\n",
              "    .colab-df-convert:hover {\n",
              "      background-color: #E2EBFA;\n",
              "      box-shadow: 0px 1px 2px rgba(60, 64, 67, 0.3), 0px 1px 3px 1px rgba(60, 64, 67, 0.15);\n",
              "      fill: #174EA6;\n",
              "    }\n",
              "\n",
              "    [theme=dark] .colab-df-convert {\n",
              "      background-color: #3B4455;\n",
              "      fill: #D2E3FC;\n",
              "    }\n",
              "\n",
              "    [theme=dark] .colab-df-convert:hover {\n",
              "      background-color: #434B5C;\n",
              "      box-shadow: 0px 1px 3px 1px rgba(0, 0, 0, 0.15);\n",
              "      filter: drop-shadow(0px 1px 2px rgba(0, 0, 0, 0.3));\n",
              "      fill: #FFFFFF;\n",
              "    }\n",
              "  </style>\n",
              "\n",
              "      <script>\n",
              "        const buttonEl =\n",
              "          document.querySelector('#df-9bf34c6a-a78b-4834-8c3d-d52fb02a9de7 button.colab-df-convert');\n",
              "        buttonEl.style.display =\n",
              "          google.colab.kernel.accessAllowed ? 'block' : 'none';\n",
              "\n",
              "        async function convertToInteractive(key) {\n",
              "          const element = document.querySelector('#df-9bf34c6a-a78b-4834-8c3d-d52fb02a9de7');\n",
              "          const dataTable =\n",
              "            await google.colab.kernel.invokeFunction('convertToInteractive',\n",
              "                                                     [key], {});\n",
              "          if (!dataTable) return;\n",
              "\n",
              "          const docLinkHtml = 'Like what you see? Visit the ' +\n",
              "            '<a target=\"_blank\" href=https://colab.research.google.com/notebooks/data_table.ipynb>data table notebook</a>'\n",
              "            + ' to learn more about interactive tables.';\n",
              "          element.innerHTML = '';\n",
              "          dataTable['output_type'] = 'display_data';\n",
              "          await google.colab.output.renderOutput(dataTable, element);\n",
              "          const docLink = document.createElement('div');\n",
              "          docLink.innerHTML = docLinkHtml;\n",
              "          element.appendChild(docLink);\n",
              "        }\n",
              "      </script>\n",
              "    </div>\n",
              "  </div>\n",
              "  "
            ]
          },
          "metadata": {},
          "execution_count": 38
        }
      ]
    },
    {
      "cell_type": "code",
      "source": [
        "# 5.0 Scale data\n",
        "ss = StandardScaler()\n",
        "ss.fit(data)\n",
        "X = ss.transform(data)"
      ],
      "metadata": {
        "id": "wKkicmIIIYnM"
      },
      "execution_count": null,
      "outputs": []
    },
    {
      "cell_type": "code",
      "source": [
        "# 5.1\n",
        "X[:5]"
      ],
      "metadata": {
        "id": "PkbMnfCd57P7",
        "colab": {
          "base_uri": "https://localhost:8080/"
        },
        "outputId": "90275455-ceea-44cd-d116-59c0a17edc8f"
      },
      "execution_count": null,
      "outputs": [
        {
          "output_type": "execute_result",
          "data": {
            "text/plain": [
              "array([[-1.32783522,  1.05254828,  0.98214266, -0.8048191 , -0.97247648,\n",
              "        -0.9744286 , -0.97703285,  2.34476576,  1.2910888 ],\n",
              "       [-1.32284391,  1.04318455, -0.60701891,  2.0458901 ,  1.35714343,\n",
              "         0.86143887,  1.66996103,  2.33223796,  1.2910888 ],\n",
              "       [-1.33282653,  1.03850269,  1.85618152, -0.53574589, -0.82702426,\n",
              "        -0.82077735, -0.84363692,  1.7826994 ,  1.2910888 ],\n",
              "       [-1.33781784,  1.03850269,  1.85618152, -0.62421459, -0.71972345,\n",
              "        -0.76602806, -0.73378144,  0.93296751,  1.2910888 ],\n",
              "       [-1.33781784,  1.03850269,  1.85618152, -0.46240395, -0.61242263,\n",
              "        -0.75984669, -0.62915718, -0.012881  ,  1.2910888 ]])"
            ]
          },
          "metadata": {},
          "execution_count": 14
        }
      ]
    },
    {
      "cell_type": "code",
      "source": [
        "# 6.0 Split data:\n",
        "\n",
        "X_train,X_test,y_train,y_test = train_test_split(X,y, test_size = 0.15)\n",
        "display(X_train.shape)\n",
        "display(X_test.shape)"
      ],
      "metadata": {
        "colab": {
          "base_uri": "https://localhost:8080/",
          "height": 53
        },
        "id": "NPr69PhkqlWH",
        "outputId": "6d7425bb-c2f7-46c4-ed31-614b64324e41"
      },
      "execution_count": null,
      "outputs": [
        {
          "output_type": "display_data",
          "data": {
            "text/plain": [
              "(17544, 9)"
            ]
          },
          "metadata": {}
        },
        {
          "output_type": "display_data",
          "data": {
            "text/plain": [
              "(3096, 9)"
            ]
          },
          "metadata": {}
        }
      ]
    },
    {
      "cell_type": "markdown",
      "source": [
        "## Model"
      ],
      "metadata": {
        "id": "BKGxZacvpAUU"
      }
    },
    {
      "cell_type": "code",
      "source": [
        "# 6.0\n",
        "model = tf.keras.Sequential()"
      ],
      "metadata": {
        "id": "3u7a51m5Ixfm"
      },
      "execution_count": null,
      "outputs": []
    },
    {
      "cell_type": "code",
      "source": [
        "# 6.1\n",
        "model.add( tf.keras.layers.Input(shape = (9,) ))"
      ],
      "metadata": {
        "id": "71VW2avIJEsh"
      },
      "execution_count": null,
      "outputs": []
    },
    {
      "cell_type": "code",
      "source": [
        "# 6.2 Start \n",
        "model.add(tf.keras.layers.Dense(20, activation = 'relu'))  # MAke it 5 and then 20 (not more or less)"
      ],
      "metadata": {
        "id": "fUDftH3BJ_-L"
      },
      "execution_count": null,
      "outputs": []
    },
    {
      "cell_type": "code",
      "source": [
        "# 6.2.1 Experiment with adding a dropout layer\n",
        "#       but then increase number of units in Dense layer from 20 to 40\n",
        "#model.add(tf.keras.layers.Dropout(rate = 0.5 ))"
      ],
      "metadata": {
        "id": "NNAVQxIDwuVk"
      },
      "execution_count": null,
      "outputs": []
    },
    {
      "cell_type": "code",
      "source": [
        "model.add(tf.keras.layers.Dense(20, activation = 'relu'))  \n",
        "#model.add(tf.keras.layers.Dropout(rate = 0.5 ))"
      ],
      "metadata": {
        "id": "Dj5lOyfyyDaQ"
      },
      "execution_count": null,
      "outputs": []
    },
    {
      "cell_type": "code",
      "source": [
        "#model.add(tf.keras.layers.Dense(10, activation = 'relu'))  \n",
        "#model.add(tf.keras.layers.Dropout(rate = 0.5 ))"
      ],
      "metadata": {
        "id": "8zHYh7XCy2cJ"
      },
      "execution_count": null,
      "outputs": []
    },
    {
      "cell_type": "code",
      "source": [
        "# 6.3 Experiment as follows:\n",
        "#       a. First with activation of sigmoid--Result=>Maximum error\n",
        "#       b. Then no activation function--Result=>Less error\n",
        "#       c. Then with ReLU--Result=>Less error (target being +ve)\n",
        "#       d. Standardise target so that target has both +ve and -ve values\n",
        "#          Then try with Relu, with sigmoid and with no activation fumction.\n",
        "#          Result=>Least error with no activation.\n",
        "\n",
        "model.add(tf.keras.layers.Dense(1))    # Keep sigmoid; then remove sigmoid"
      ],
      "metadata": {
        "id": "glw8SP83KQBL"
      },
      "execution_count": null,
      "outputs": []
    },
    {
      "cell_type": "code",
      "source": [
        "# 6.4 Model summary:\n",
        "model.summary()"
      ],
      "metadata": {
        "id": "HcfvweBLKWiQ",
        "outputId": "3e3df9a9-8934-40aa-e5d3-2af5276aba45",
        "colab": {
          "base_uri": "https://localhost:8080/"
        }
      },
      "execution_count": null,
      "outputs": [
        {
          "output_type": "stream",
          "name": "stdout",
          "text": [
            "Model: \"sequential_4\"\n",
            "_________________________________________________________________\n",
            " Layer (type)                Output Shape              Param #   \n",
            "=================================================================\n",
            " dense_11 (Dense)            (None, 40)                400       \n",
            "                                                                 \n",
            " dropout_6 (Dropout)         (None, 40)                0         \n",
            "                                                                 \n",
            " dense_12 (Dense)            (None, 20)                820       \n",
            "                                                                 \n",
            " dropout_7 (Dropout)         (None, 20)                0         \n",
            "                                                                 \n",
            " dense_13 (Dense)            (None, 10)                210       \n",
            "                                                                 \n",
            " dense_14 (Dense)            (None, 1)                 11        \n",
            "                                                                 \n",
            "=================================================================\n",
            "Total params: 1,441\n",
            "Trainable params: 1,441\n",
            "Non-trainable params: 0\n",
            "_________________________________________________________________\n"
          ]
        }
      ]
    },
    {
      "cell_type": "code",
      "source": [
        "# 6.5 Compile model\n",
        "#     Expt with adam\n",
        "model.compile(\n",
        "                 loss = 'mae',\n",
        "                 optimizer = 'adam',  # Try first with default optimizer and then with 'adam'\n",
        "                                      #  may not make much difference \n",
        "                 metrics = ['mae']\n",
        "\n",
        "              )"
      ],
      "metadata": {
        "id": "6LLk36OpKYIJ"
      },
      "execution_count": null,
      "outputs": []
    },
    {
      "cell_type": "code",
      "source": [
        "# 7.0\n",
        "history = model.fit(X_train,y_train,\n",
        "                    epochs = 70,\n",
        "                    validation_data = (X_test, y_test)\n",
        "                   )"
      ],
      "metadata": {
        "id": "SxH9wqFAKj6R",
        "outputId": "52d1473b-e7b6-45c8-b34b-3f7782f45c09",
        "colab": {
          "base_uri": "https://localhost:8080/"
        }
      },
      "execution_count": null,
      "outputs": [
        {
          "output_type": "stream",
          "name": "stdout",
          "text": [
            "Epoch 1/70\n",
            "549/549 [==============================] - 2s 3ms/step - loss: 202302.9844 - mae: 202302.9844 - val_loss: 185277.0000 - val_mae: 185277.0000\n",
            "Epoch 2/70\n",
            "549/549 [==============================] - 2s 3ms/step - loss: 133477.3438 - mae: 133477.3438 - val_loss: 92973.9141 - val_mae: 92973.9141\n",
            "Epoch 3/70\n",
            "549/549 [==============================] - 1s 2ms/step - loss: 95824.3281 - mae: 95824.3281 - val_loss: 75812.4375 - val_mae: 75812.4375\n",
            "Epoch 4/70\n",
            "549/549 [==============================] - 1s 3ms/step - loss: 85449.5078 - mae: 85449.5078 - val_loss: 67652.8359 - val_mae: 67652.8359\n",
            "Epoch 5/70\n",
            "549/549 [==============================] - 1s 3ms/step - loss: 81122.1172 - mae: 81122.1172 - val_loss: 62249.5312 - val_mae: 62249.5312\n",
            "Epoch 6/70\n",
            "549/549 [==============================] - 1s 3ms/step - loss: 77531.3906 - mae: 77531.3906 - val_loss: 58334.4766 - val_mae: 58334.4766\n",
            "Epoch 7/70\n",
            "549/549 [==============================] - 1s 3ms/step - loss: 74600.5938 - mae: 74600.5938 - val_loss: 55813.9531 - val_mae: 55813.9531\n",
            "Epoch 8/70\n",
            "549/549 [==============================] - 1s 2ms/step - loss: 72944.0234 - mae: 72944.0234 - val_loss: 54570.2695 - val_mae: 54570.2695\n",
            "Epoch 9/70\n",
            "549/549 [==============================] - 2s 3ms/step - loss: 71530.2109 - mae: 71530.2109 - val_loss: 52981.9336 - val_mae: 52981.9336\n",
            "Epoch 10/70\n",
            "549/549 [==============================] - 1s 3ms/step - loss: 70632.1797 - mae: 70632.1797 - val_loss: 51883.7422 - val_mae: 51883.7422\n",
            "Epoch 11/70\n",
            "549/549 [==============================] - 1s 2ms/step - loss: 69541.6797 - mae: 69541.6797 - val_loss: 51618.5273 - val_mae: 51618.5273\n",
            "Epoch 12/70\n",
            "549/549 [==============================] - 1s 2ms/step - loss: 68815.6797 - mae: 68815.6797 - val_loss: 50753.8438 - val_mae: 50753.8438\n",
            "Epoch 13/70\n",
            "549/549 [==============================] - 1s 2ms/step - loss: 68153.4609 - mae: 68153.4609 - val_loss: 50326.5625 - val_mae: 50326.5625\n",
            "Epoch 14/70\n",
            "549/549 [==============================] - 1s 2ms/step - loss: 67825.1172 - mae: 67825.1172 - val_loss: 49956.5234 - val_mae: 49956.5234\n",
            "Epoch 15/70\n",
            "549/549 [==============================] - 1s 2ms/step - loss: 67341.5703 - mae: 67341.5703 - val_loss: 49925.1641 - val_mae: 49925.1641\n",
            "Epoch 16/70\n",
            "549/549 [==============================] - 1s 3ms/step - loss: 67603.0312 - mae: 67603.0312 - val_loss: 49667.7969 - val_mae: 49667.7969\n",
            "Epoch 17/70\n",
            "549/549 [==============================] - 1s 2ms/step - loss: 66769.1328 - mae: 66769.1328 - val_loss: 49045.3242 - val_mae: 49045.3242\n",
            "Epoch 18/70\n",
            "549/549 [==============================] - 1s 3ms/step - loss: 67262.5234 - mae: 67262.5234 - val_loss: 48760.0938 - val_mae: 48760.0938\n",
            "Epoch 19/70\n",
            "549/549 [==============================] - 1s 2ms/step - loss: 66675.7109 - mae: 66675.7109 - val_loss: 49090.5625 - val_mae: 49090.5625\n",
            "Epoch 20/70\n",
            "549/549 [==============================] - 1s 2ms/step - loss: 66111.3750 - mae: 66111.3750 - val_loss: 48838.5781 - val_mae: 48838.5781\n",
            "Epoch 21/70\n",
            "549/549 [==============================] - 1s 2ms/step - loss: 66540.5938 - mae: 66540.5938 - val_loss: 48922.2422 - val_mae: 48922.2422\n",
            "Epoch 22/70\n",
            "549/549 [==============================] - 1s 2ms/step - loss: 66242.9375 - mae: 66242.9375 - val_loss: 48625.7070 - val_mae: 48625.7070\n",
            "Epoch 23/70\n",
            "549/549 [==============================] - 1s 2ms/step - loss: 66289.6484 - mae: 66289.6484 - val_loss: 48458.5000 - val_mae: 48458.5000\n",
            "Epoch 24/70\n",
            "549/549 [==============================] - 1s 2ms/step - loss: 66076.6875 - mae: 66076.6875 - val_loss: 48353.6133 - val_mae: 48353.6133\n",
            "Epoch 25/70\n",
            "549/549 [==============================] - 1s 2ms/step - loss: 65591.4453 - mae: 65591.4453 - val_loss: 48494.4805 - val_mae: 48494.4805\n",
            "Epoch 26/70\n",
            "549/549 [==============================] - 1s 2ms/step - loss: 65627.3047 - mae: 65627.3047 - val_loss: 48012.3867 - val_mae: 48012.3867\n",
            "Epoch 27/70\n",
            "549/549 [==============================] - 1s 2ms/step - loss: 65388.5430 - mae: 65388.5430 - val_loss: 48214.1758 - val_mae: 48214.1758\n",
            "Epoch 28/70\n",
            "549/549 [==============================] - 2s 3ms/step - loss: 65886.6172 - mae: 65886.6172 - val_loss: 48045.8203 - val_mae: 48045.8203\n",
            "Epoch 29/70\n",
            "549/549 [==============================] - 1s 3ms/step - loss: 65836.0938 - mae: 65836.0938 - val_loss: 48289.8750 - val_mae: 48289.8750\n",
            "Epoch 30/70\n",
            "549/549 [==============================] - 1s 3ms/step - loss: 65399.6445 - mae: 65399.6445 - val_loss: 48546.6602 - val_mae: 48546.6602\n",
            "Epoch 31/70\n",
            "549/549 [==============================] - 1s 2ms/step - loss: 65719.4219 - mae: 65719.4219 - val_loss: 48276.9805 - val_mae: 48276.9805\n",
            "Epoch 32/70\n",
            "549/549 [==============================] - 1s 3ms/step - loss: 65593.2109 - mae: 65593.2109 - val_loss: 47973.6680 - val_mae: 47973.6680\n",
            "Epoch 33/70\n",
            "549/549 [==============================] - 1s 2ms/step - loss: 65633.7812 - mae: 65633.7812 - val_loss: 47802.8750 - val_mae: 47802.8750\n",
            "Epoch 34/70\n",
            "549/549 [==============================] - 2s 3ms/step - loss: 66186.4922 - mae: 66186.4922 - val_loss: 47713.3086 - val_mae: 47713.3086\n",
            "Epoch 35/70\n",
            "549/549 [==============================] - 1s 2ms/step - loss: 65808.6875 - mae: 65808.6875 - val_loss: 48390.2227 - val_mae: 48390.2227\n",
            "Epoch 36/70\n",
            "549/549 [==============================] - 1s 2ms/step - loss: 65387.6797 - mae: 65387.6797 - val_loss: 47706.1641 - val_mae: 47706.1641\n",
            "Epoch 37/70\n",
            "549/549 [==============================] - 1s 2ms/step - loss: 65136.7578 - mae: 65136.7578 - val_loss: 47908.3867 - val_mae: 47908.3867\n",
            "Epoch 38/70\n",
            "549/549 [==============================] - 1s 2ms/step - loss: 65165.2930 - mae: 65165.2930 - val_loss: 47575.8750 - val_mae: 47575.8750\n",
            "Epoch 39/70\n",
            "549/549 [==============================] - 1s 2ms/step - loss: 64707.4141 - mae: 64707.4141 - val_loss: 47619.8672 - val_mae: 47619.8672\n",
            "Epoch 40/70\n",
            "549/549 [==============================] - 1s 2ms/step - loss: 64976.4609 - mae: 64976.4609 - val_loss: 47787.2656 - val_mae: 47787.2656\n",
            "Epoch 41/70\n",
            "549/549 [==============================] - 1s 2ms/step - loss: 65356.0000 - mae: 65356.0000 - val_loss: 48155.1406 - val_mae: 48155.1406\n",
            "Epoch 42/70\n",
            "549/549 [==============================] - 1s 2ms/step - loss: 64418.8594 - mae: 64418.8594 - val_loss: 47530.0117 - val_mae: 47530.0117\n",
            "Epoch 43/70\n",
            "549/549 [==============================] - 1s 2ms/step - loss: 64835.8828 - mae: 64835.8828 - val_loss: 47704.5547 - val_mae: 47704.5547\n",
            "Epoch 44/70\n",
            "549/549 [==============================] - 1s 3ms/step - loss: 65253.2969 - mae: 65253.2969 - val_loss: 47533.7812 - val_mae: 47533.7812\n",
            "Epoch 45/70\n",
            "549/549 [==============================] - 1s 2ms/step - loss: 65334.0117 - mae: 65334.0117 - val_loss: 47351.4727 - val_mae: 47351.4727\n",
            "Epoch 46/70\n",
            "549/549 [==============================] - 1s 2ms/step - loss: 64892.3594 - mae: 64892.3594 - val_loss: 47672.1719 - val_mae: 47672.1719\n",
            "Epoch 47/70\n",
            "549/549 [==============================] - 2s 4ms/step - loss: 64094.9258 - mae: 64094.9258 - val_loss: 47025.1016 - val_mae: 47025.1016\n",
            "Epoch 48/70\n",
            "549/549 [==============================] - 1s 2ms/step - loss: 64608.4727 - mae: 64608.4727 - val_loss: 47472.4023 - val_mae: 47472.4023\n",
            "Epoch 49/70\n",
            "549/549 [==============================] - 1s 2ms/step - loss: 64552.1055 - mae: 64552.1055 - val_loss: 47412.9062 - val_mae: 47412.9062\n",
            "Epoch 50/70\n",
            "549/549 [==============================] - 1s 3ms/step - loss: 64542.4961 - mae: 64542.4961 - val_loss: 47441.1211 - val_mae: 47441.1211\n",
            "Epoch 51/70\n",
            "549/549 [==============================] - 1s 3ms/step - loss: 64411.5117 - mae: 64411.5117 - val_loss: 47287.8281 - val_mae: 47287.8281\n",
            "Epoch 52/70\n",
            "549/549 [==============================] - 1s 3ms/step - loss: 64106.8945 - mae: 64106.8945 - val_loss: 47623.1523 - val_mae: 47623.1523\n",
            "Epoch 53/70\n",
            "549/549 [==============================] - 1s 3ms/step - loss: 64505.8867 - mae: 64505.8867 - val_loss: 47244.6719 - val_mae: 47244.6719\n",
            "Epoch 54/70\n",
            "549/549 [==============================] - 2s 3ms/step - loss: 63905.0000 - mae: 63905.0000 - val_loss: 47150.9922 - val_mae: 47150.9922\n",
            "Epoch 55/70\n",
            "549/549 [==============================] - 2s 3ms/step - loss: 64292.5156 - mae: 64292.5156 - val_loss: 47472.1602 - val_mae: 47472.1602\n",
            "Epoch 56/70\n",
            "549/549 [==============================] - 2s 3ms/step - loss: 64249.1875 - mae: 64249.1875 - val_loss: 47079.1250 - val_mae: 47079.1250\n",
            "Epoch 57/70\n",
            "549/549 [==============================] - 1s 2ms/step - loss: 64324.7656 - mae: 64324.7656 - val_loss: 47214.8750 - val_mae: 47214.8750\n",
            "Epoch 58/70\n",
            "549/549 [==============================] - 1s 3ms/step - loss: 63996.8281 - mae: 63996.8281 - val_loss: 47168.9609 - val_mae: 47168.9609\n",
            "Epoch 59/70\n",
            "549/549 [==============================] - 1s 3ms/step - loss: 64272.3789 - mae: 64272.3789 - val_loss: 46852.9453 - val_mae: 46852.9453\n",
            "Epoch 60/70\n",
            "549/549 [==============================] - 1s 2ms/step - loss: 63981.0586 - mae: 63981.0586 - val_loss: 47307.2852 - val_mae: 47307.2852\n",
            "Epoch 61/70\n",
            "549/549 [==============================] - 1s 2ms/step - loss: 64968.6523 - mae: 64968.6523 - val_loss: 47384.8438 - val_mae: 47384.8438\n",
            "Epoch 62/70\n",
            "549/549 [==============================] - 1s 3ms/step - loss: 63771.6797 - mae: 63771.6797 - val_loss: 47128.9414 - val_mae: 47128.9414\n",
            "Epoch 63/70\n",
            "549/549 [==============================] - 1s 3ms/step - loss: 64297.6094 - mae: 64297.6094 - val_loss: 47051.2539 - val_mae: 47051.2539\n",
            "Epoch 64/70\n",
            "549/549 [==============================] - 1s 2ms/step - loss: 64336.9688 - mae: 64336.9688 - val_loss: 47061.0352 - val_mae: 47061.0352\n",
            "Epoch 65/70\n",
            "549/549 [==============================] - 2s 3ms/step - loss: 64388.4648 - mae: 64388.4648 - val_loss: 47231.6289 - val_mae: 47231.6289\n",
            "Epoch 66/70\n",
            "549/549 [==============================] - 2s 4ms/step - loss: 64031.9062 - mae: 64031.9062 - val_loss: 46620.7969 - val_mae: 46620.7969\n",
            "Epoch 67/70\n",
            "549/549 [==============================] - 2s 4ms/step - loss: 64010.9219 - mae: 64010.9219 - val_loss: 46830.0742 - val_mae: 46830.0742\n",
            "Epoch 68/70\n",
            "549/549 [==============================] - 2s 3ms/step - loss: 63833.9961 - mae: 63833.9961 - val_loss: 46846.2070 - val_mae: 46846.2070\n",
            "Epoch 69/70\n",
            "549/549 [==============================] - 2s 3ms/step - loss: 63542.0625 - mae: 63542.0625 - val_loss: 46617.8984 - val_mae: 46617.8984\n",
            "Epoch 70/70\n",
            "549/549 [==============================] - 2s 3ms/step - loss: 63853.7734 - mae: 63853.7734 - val_loss: 46563.8359 - val_mae: 46563.8359\n"
          ]
        }
      ]
    },
    {
      "cell_type": "code",
      "source": [
        "# 7.1\n",
        "model.evaluate(X_test,y_test)"
      ],
      "metadata": {
        "id": "E8CUmuEXKsgT",
        "outputId": "fc7345b3-9839-4aa9-ac47-4d0cdd50412f",
        "colab": {
          "base_uri": "https://localhost:8080/"
        }
      },
      "execution_count": null,
      "outputs": [
        {
          "output_type": "stream",
          "name": "stdout",
          "text": [
            "97/97 [==============================] - 0s 2ms/step - loss: 0.6292 - mae: 0.6292\n"
          ]
        },
        {
          "output_type": "execute_result",
          "data": {
            "text/plain": [
              "[0.6291962265968323, 0.6291962265968323]"
            ]
          },
          "metadata": {},
          "execution_count": 129
        }
      ]
    },
    {
      "cell_type": "code",
      "source": [
        "######################### I am done #################"
      ],
      "metadata": {
        "id": "bzQX6UdZK-E-"
      },
      "execution_count": null,
      "outputs": []
    }
  ]
}
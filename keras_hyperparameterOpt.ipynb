{
  "nbformat": 4,
  "nbformat_minor": 0,
  "metadata": {
    "colab": {
      "name": "keras_hyperparameterOpt.ipynb",
      "provenance": [],
      "include_colab_link": true
    },
    "kernelspec": {
      "name": "python3",
      "display_name": "Python 3"
    }
  },
  "cells": [
    {
      "cell_type": "markdown",
      "metadata": {
        "id": "view-in-github",
        "colab_type": "text"
      },
      "source": [
        "<a href=\"https://colab.research.google.com/github/avimonda298/Deep-Learning/blob/main/keras_hyperparameterOpt.ipynb\" target=\"_parent\"><img src=\"https://colab.research.google.com/assets/colab-badge.svg\" alt=\"Open In Colab\"/></a>"
      ]
    },
    {
      "cell_type": "markdown",
      "metadata": {
        "id": "bDkD7bKzbd-h"
      },
      "source": [
        "<table align=\"left\">\n",
        "  <td>\n",
        "    <a target=\"_blank\" href=\"https://colab.research.google.com/github/harnalashok/deeplearning/blob/main/keras_hyperparameterOpt.ipynb\"><img src=\"https://www.tensorflow.org/images/colab_logo_32px.png\" />Run in Google Colab</a>\n",
        "  </td>\n",
        "</table>"
      ]
    },
    {
      "cell_type": "markdown",
      "metadata": {
        "id": "DXFPiXMNAVs4"
      },
      "source": [
        "Last amended: 11th Jan, 2021<br>\n",
        "Hyperparameter tuning example of Neural Network using keras-tuner of dense network<br>\n",
        "Ref:<br>\n",
        "https://keras-team.github.io/keras-tuner/ <br>\n",
        "https://blog.tensorflow.org/2020/01/hyperparameter-tuning-with-keras-tuner.html <br>\n"
      ]
    },
    {
      "cell_type": "code",
      "metadata": {
        "id": "79S7WaM2ed9L",
        "colab": {
          "base_uri": "https://localhost:8080/"
        },
        "outputId": "684f570e-0a77-48c8-c180-64f69151beab"
      },
      "source": [
        "# 1.0 Install keras-tuner\n",
        "#     It is not a part of tensorflow package\n",
        "!pip install -q -U keras-tuner"
      ],
      "execution_count": null,
      "outputs": [
        {
          "output_type": "stream",
          "text": [
            "\u001b[?25l\r\u001b[K     |█████▏                          | 10kB 22.6MB/s eta 0:00:01\r\u001b[K     |██████████▍                     | 20kB 26.7MB/s eta 0:00:01\r\u001b[K     |███████████████▋                | 30kB 18.3MB/s eta 0:00:01\r\u001b[K     |████████████████████▉           | 40kB 16.5MB/s eta 0:00:01\r\u001b[K     |██████████████████████████      | 51kB 17.2MB/s eta 0:00:01\r\u001b[K     |███████████████████████████████▎| 61kB 16.1MB/s eta 0:00:01\r\u001b[K     |████████████████████████████████| 71kB 6.0MB/s \n",
            "\u001b[?25h  Building wheel for keras-tuner (setup.py) ... \u001b[?25l\u001b[?25hdone\n",
            "  Building wheel for terminaltables (setup.py) ... \u001b[?25l\u001b[?25hdone\n"
          ],
          "name": "stdout"
        }
      ]
    },
    {
      "cell_type": "code",
      "metadata": {
        "id": "_f6eE40XKTtA"
      },
      "source": [
        "# 1.1 Import normal libraries\n",
        "import tensorflow as tf\n",
        "from tensorflow import keras\n",
        "import kerastuner as kt\n",
        "\n"
      ],
      "execution_count": null,
      "outputs": []
    },
    {
      "cell_type": "code",
      "metadata": {
        "id": "SPmMYHIKPDS5"
      },
      "source": [
        "# 1.2 Display outputs of multiple commands from a cell\n",
        "from IPython.core.interactiveshell import InteractiveShell\n",
        "InteractiveShell.ast_node_interactivity = \"all\"\n"
      ],
      "execution_count": null,
      "outputs": []
    },
    {
      "cell_type": "code",
      "metadata": {
        "id": "znxpyR84Kh5s"
      },
      "source": [
        "# 2.0 Get data.\n",
        "# Give a shortname for kears fashion_mnist module\n",
        "fashion_mnist = keras.datasets.fashion_mnist"
      ],
      "execution_count": null,
      "outputs": []
    },
    {
      "cell_type": "code",
      "metadata": {
        "colab": {
          "base_uri": "https://localhost:8080/"
        },
        "id": "c8Ei2QNTK7Ck",
        "outputId": "80f76d7d-fc59-4f4e-dac4-a2bd6af889e5"
      },
      "source": [
        "# 2.1 What all attributes/functions this module contains\n",
        "dir(fashion_mnist)  "
      ],
      "execution_count": null,
      "outputs": [
        {
          "output_type": "execute_result",
          "data": {
            "text/plain": [
              "['__builtins__',\n",
              " '__cached__',\n",
              " '__doc__',\n",
              " '__file__',\n",
              " '__loader__',\n",
              " '__name__',\n",
              " '__package__',\n",
              " '__path__',\n",
              " '__spec__',\n",
              " '_sys',\n",
              " 'load_data']"
            ]
          },
          "metadata": {
            "tags": []
          },
          "execution_count": 5
        }
      ]
    },
    {
      "cell_type": "code",
      "metadata": {
        "colab": {
          "base_uri": "https://localhost:8080/"
        },
        "id": "l-xfWJJGK-Ha",
        "outputId": "fa9c3f25-eef5-48c4-c221-ab491795f164"
      },
      "source": [
        "# 2.2 Look at load_data function\n",
        "help(fashion_mnist.load_data)"
      ],
      "execution_count": null,
      "outputs": [
        {
          "output_type": "stream",
          "text": [
            "Help on function load_data in module tensorflow.python.keras.datasets.fashion_mnist:\n",
            "\n",
            "load_data()\n",
            "    Loads the Fashion-MNIST dataset.\n",
            "    \n",
            "    This is a dataset of 60,000 28x28 grayscale images of 10 fashion categories,\n",
            "    along with a test set of 10,000 images. This dataset can be used as\n",
            "    a drop-in replacement for MNIST. The class labels are:\n",
            "    \n",
            "    | Label | Description |\n",
            "    |:-----:|-------------|\n",
            "    |   0   | T-shirt/top |\n",
            "    |   1   | Trouser     |\n",
            "    |   2   | Pullover    |\n",
            "    |   3   | Dress       |\n",
            "    |   4   | Coat        |\n",
            "    |   5   | Sandal      |\n",
            "    |   6   | Shirt       |\n",
            "    |   7   | Sneaker     |\n",
            "    |   8   | Bag         |\n",
            "    |   9   | Ankle boot  |\n",
            "    \n",
            "    Returns:\n",
            "        Tuple of Numpy arrays: `(x_train, y_train), (x_test, y_test)`.\n",
            "    \n",
            "        **x_train, x_test**: uint8 arrays of grayscale image data with shape\n",
            "          (num_samples, 28, 28).\n",
            "    \n",
            "        **y_train, y_test**: uint8 arrays of labels (integers in range 0-9)\n",
            "          with shape (num_samples,).\n",
            "    \n",
            "    License:\n",
            "        The copyright for Fashion-MNIST is held by Zalando SE.\n",
            "        Fashion-MNIST is licensed under the [MIT license](\n",
            "        https://github.com/zalandoresearch/fashion-mnist/blob/master/LICENSE).\n",
            "\n"
          ],
          "name": "stdout"
        }
      ]
    },
    {
      "cell_type": "code",
      "metadata": {
        "id": "qtjVxKNTMVeo",
        "colab": {
          "base_uri": "https://localhost:8080/"
        },
        "outputId": "3f9faf8d-fa7c-415c-b56e-38a0c1d21f10"
      },
      "source": [
        "# 2.3 Download data. Data is downloaded. Download occurs only once.\n",
        "(x_train, y_train), (x_test, y_test) = fashion_mnist.load_data()"
      ],
      "execution_count": null,
      "outputs": [
        {
          "output_type": "stream",
          "text": [
            "Downloading data from https://storage.googleapis.com/tensorflow/tf-keras-datasets/train-labels-idx1-ubyte.gz\n",
            "32768/29515 [=================================] - 0s 0us/step\n",
            "Downloading data from https://storage.googleapis.com/tensorflow/tf-keras-datasets/train-images-idx3-ubyte.gz\n",
            "26427392/26421880 [==============================] - 0s 0us/step\n",
            "Downloading data from https://storage.googleapis.com/tensorflow/tf-keras-datasets/t10k-labels-idx1-ubyte.gz\n",
            "8192/5148 [===============================================] - 0s 0us/step\n",
            "Downloading data from https://storage.googleapis.com/tensorflow/tf-keras-datasets/t10k-images-idx3-ubyte.gz\n",
            "4423680/4422102 [==============================] - 0s 0us/step\n"
          ],
          "name": "stdout"
        }
      ]
    },
    {
      "cell_type": "code",
      "metadata": {
        "colab": {
          "base_uri": "https://localhost:8080/"
        },
        "id": "UU-M5EvoNsHL",
        "outputId": "deb26ac7-b3fd-46cf-c06b-bb3067ec69f7"
      },
      "source": [
        "# 3.0 Where is data stored. \n",
        "#     Let us examine our Virtual machine\n",
        "!ls /"
      ],
      "execution_count": null,
      "outputs": [
        {
          "output_type": "stream",
          "text": [
            "bin\t datalab  home\t lib64\topt   run   swift\t       tmp    var\n",
            "boot\t dev\t  lib\t media\tproc  sbin  sys\t\t       tools\n",
            "content  etc\t  lib32  mnt\troot  srv   tensorflow-1.15.2  usr\n"
          ],
          "name": "stdout"
        }
      ]
    },
    {
      "cell_type": "code",
      "metadata": {
        "colab": {
          "base_uri": "https://localhost:8080/"
        },
        "id": "mG-2uDfLN3AI",
        "outputId": "77ef0927-16ac-48d0-ade9-8a8b8e0c5fea"
      },
      "source": [
        "# 3.1 There is a datasets folder under 'root'\n",
        "! ls -la /root/.keras/datasets\n"
      ],
      "execution_count": null,
      "outputs": [
        {
          "output_type": "stream",
          "text": [
            "total 12\n",
            "drwxr-xr-x 3 root root 4096 Jan 11 05:11 .\n",
            "drwxr-xr-x 3 root root 4096 Jan 11 05:11 ..\n",
            "drwxr-xr-x 2 root root 4096 Jan 11 05:11 fashion-mnist\n"
          ],
          "name": "stdout"
        }
      ]
    },
    {
      "cell_type": "code",
      "metadata": {
        "colab": {
          "base_uri": "https://localhost:8080/"
        },
        "id": "a4PyeFXEMiv5",
        "outputId": "f79ea5c8-da3b-4b64-e5ce-8218630760c3"
      },
      "source": [
        "# 3.2 About data\n",
        "x_train.shape, x_test.shape, y_train.shape, y_test.shape  # ((60000, 28, 28), (10000, 28, 28), (60000,), (10000,))"
      ],
      "execution_count": null,
      "outputs": [
        {
          "output_type": "execute_result",
          "data": {
            "text/plain": [
              "((60000, 28, 28), (10000, 28, 28), (60000,), (10000,))"
            ]
          },
          "metadata": {
            "tags": []
          },
          "execution_count": 10
        }
      ]
    },
    {
      "cell_type": "code",
      "metadata": {
        "colab": {
          "base_uri": "https://localhost:8080/"
        },
        "id": "YjJl-1SoMuBW",
        "outputId": "6e38d5e8-aa77-48a5-b3c0-1a4eb62bd828"
      },
      "source": [
        "# 3.3 Observe some pixel intensity values\n",
        "x_train[10,10,:10]\n",
        "y_train"
      ],
      "execution_count": null,
      "outputs": [
        {
          "output_type": "execute_result",
          "data": {
            "text/plain": [
              "array([  0,   0,   0,   0,   0,  31, 174,  28, 126, 153], dtype=uint8)"
            ]
          },
          "metadata": {
            "tags": []
          },
          "execution_count": 11
        },
        {
          "output_type": "execute_result",
          "data": {
            "text/plain": [
              "array([9, 0, 0, ..., 3, 0, 5], dtype=uint8)"
            ]
          },
          "metadata": {
            "tags": []
          },
          "execution_count": 11
        }
      ]
    },
    {
      "cell_type": "code",
      "metadata": {
        "colab": {
          "base_uri": "https://localhost:8080/"
        },
        "id": "OmKQMJprNLI1",
        "outputId": "89a02ad0-e7bb-4578-a589-0db08f0eaf74"
      },
      "source": [
        "# 3.4 Nomalize pixel intensities\n",
        "x_train = x_train/255\n",
        "x_test = x_test/255\n",
        "x_train[10,10,:10]"
      ],
      "execution_count": null,
      "outputs": [
        {
          "output_type": "execute_result",
          "data": {
            "text/plain": [
              "array([0.        , 0.        , 0.        , 0.        , 0.        ,\n",
              "       0.12156863, 0.68235294, 0.10980392, 0.49411765, 0.6       ])"
            ]
          },
          "metadata": {
            "tags": []
          },
          "execution_count": 12
        }
      ]
    },
    {
      "cell_type": "code",
      "metadata": {
        "id": "WzWG29FrNaEU"
      },
      "source": [
        "# 3.5 Corresponding to values 0,1,2..9 in the target, the \n",
        "#  names of actual items are here:\n",
        "items = [ \"T-shirt/top\",\"Trouser\", \"Pullover\", \"Dress\" , \"Coat\", \"Sandal\", \"Shirt\", \"Sneaker\", \"Bag\", \"Ankle boot\" ]"
      ],
      "execution_count": null,
      "outputs": []
    },
    {
      "cell_type": "code",
      "metadata": {
        "colab": {
          "base_uri": "https://localhost:8080/",
          "height": 36
        },
        "id": "yHvnpa2ZRiVK",
        "outputId": "e56dbc73-ba30-4b33-d5e6-f5668e9d07a2"
      },
      "source": [
        "# 3.6 So which items are represented by y_train[0] and y_train[10]\n",
        "items[y_train[0]]\n",
        "items[y_train[10]]"
      ],
      "execution_count": null,
      "outputs": [
        {
          "output_type": "execute_result",
          "data": {
            "application/vnd.google.colaboratory.intrinsic+json": {
              "type": "string"
            },
            "text/plain": [
              "'Ankle boot'"
            ]
          },
          "metadata": {
            "tags": []
          },
          "execution_count": 14
        },
        {
          "output_type": "execute_result",
          "data": {
            "application/vnd.google.colaboratory.intrinsic+json": {
              "type": "string"
            },
            "text/plain": [
              "'T-shirt/top'"
            ]
          },
          "metadata": {
            "tags": []
          },
          "execution_count": 14
        }
      ]
    },
    {
      "cell_type": "markdown",
      "metadata": {
        "id": "fYSZuPrBBeX8"
      },
      "source": [
        "Experiments with diff weight initialization techniques<br>\n",
        "Just for fun, we will use different weight initilizers<br>\n",
        "Ref: https://keras.io/api/layers/initializers/\n",
        "\n",
        "> **GlorotNormal**:\n",
        "Draws samples from a truncated normal distribution centered on 0 with stddev = *sqrt(2 / (fan_in + fan_out))* where *fan_in* is the number of input units in the weight tensor and *fan_out* is the number of output units in the weight tensor.<br>\n",
        "**GlorotUniform**:\n",
        "Draws samples from a uniform distribution within *[-limit, limit]*, where limit = *sqrt(6 / (fan_in + fan_out))* (*fan_in* is the number of input units in the weight tensor and *fan_out* is the number of output units)."
      ]
    },
    {
      "cell_type": "code",
      "metadata": {
        "id": "oacV8A-qRl32"
      },
      "source": [
        "# 4.0 Let us build our dense NN model\n",
        "from tensorflow.keras import initializers \n",
        "model = keras.models.Sequential(\n",
        "                                  [\n",
        "                                    keras.layers.Flatten(input_shape = (28,28)),\n",
        "                                    keras.layers.Dense(100,activation = 'relu', kernel_initializer=initializers.RandomNormal(stddev=0.01)),\n",
        "                                    keras.layers.Dense(100,activation = 'relu', kernel_initializer=tf.keras.initializers.GlorotNormal() ),\n",
        "                                    keras.layers.Dense(100,activation = 'relu', kernel_initializer=tf.keras.initializers.GlorotUniform() ),\n",
        "                                    keras.layers.Dense(10, activation = \"softmax\")\n",
        "                                  ]\n",
        "                               )"
      ],
      "execution_count": null,
      "outputs": []
    },
    {
      "cell_type": "code",
      "metadata": {
        "colab": {
          "base_uri": "https://localhost:8080/"
        },
        "id": "-C9eQQlFYQPq",
        "outputId": "ae307b20-758f-4327-d27f-6fc88329b6eb"
      },
      "source": [
        "# 4.1 Get a summary of what layers are in our model\n",
        "#     Does not give more details, such as activation etc,\n",
        "#     about each layer\n",
        "model.summary()"
      ],
      "execution_count": null,
      "outputs": [
        {
          "output_type": "stream",
          "text": [
            "Model: \"sequential\"\n",
            "_________________________________________________________________\n",
            "Layer (type)                 Output Shape              Param #   \n",
            "=================================================================\n",
            "flatten (Flatten)            (None, 784)               0         \n",
            "_________________________________________________________________\n",
            "dense (Dense)                (None, 100)               78500     \n",
            "_________________________________________________________________\n",
            "dense_1 (Dense)              (None, 100)               10100     \n",
            "_________________________________________________________________\n",
            "dense_2 (Dense)              (None, 100)               10100     \n",
            "_________________________________________________________________\n",
            "dense_3 (Dense)              (None, 10)                1010      \n",
            "=================================================================\n",
            "Total params: 99,710\n",
            "Trainable params: 99,710\n",
            "Non-trainable params: 0\n",
            "_________________________________________________________________\n"
          ],
          "name": "stdout"
        }
      ]
    },
    {
      "cell_type": "code",
      "metadata": {
        "colab": {
          "base_uri": "https://localhost:8080/"
        },
        "id": "83xltvitXHAm",
        "outputId": "f2170be5-4cc0-42e3-eae2-f24d3473ab49"
      },
      "source": [
        "# 4.2 Let us look at model.layers object\n",
        "#     Contains a list of layers and memory addresses\n",
        "model.layers"
      ],
      "execution_count": null,
      "outputs": [
        {
          "output_type": "execute_result",
          "data": {
            "text/plain": [
              "[<tensorflow.python.keras.layers.core.Flatten at 0x7f19ff30d240>,\n",
              " <tensorflow.python.keras.layers.core.Dense at 0x7f1a172a2940>,\n",
              " <tensorflow.python.keras.layers.core.Dense at 0x7f19fee9c438>,\n",
              " <tensorflow.python.keras.layers.core.Dense at 0x7f19fee9c780>,\n",
              " <tensorflow.python.keras.layers.core.Dense at 0x7f19fee9ca20>]"
            ]
          },
          "metadata": {
            "tags": []
          },
          "execution_count": 18
        }
      ]
    },
    {
      "cell_type": "code",
      "metadata": {
        "colab": {
          "base_uri": "https://localhost:8080/",
          "height": 36
        },
        "id": "yYKuijFsYiGv",
        "outputId": "28b3d52c-cc45-4b4c-a706-3b69e1ac5997"
      },
      "source": [
        "# 4.3 First layer is Input layer. IInd \n",
        "#     and IIIrd layers are hidden layers.\n",
        "#     What is its name?\n",
        "first_hid_layer = model.layers[2]\n",
        "first_hid_layer.name   # dense\n",
        "model.layers[2].name   # dense_1"
      ],
      "execution_count": null,
      "outputs": [
        {
          "output_type": "execute_result",
          "data": {
            "application/vnd.google.colaboratory.intrinsic+json": {
              "type": "string"
            },
            "text/plain": [
              "'dense_1'"
            ]
          },
          "metadata": {
            "tags": []
          },
          "execution_count": 19
        },
        {
          "output_type": "execute_result",
          "data": {
            "application/vnd.google.colaboratory.intrinsic+json": {
              "type": "string"
            },
            "text/plain": [
              "'dense_1'"
            ]
          },
          "metadata": {
            "tags": []
          },
          "execution_count": 19
        }
      ]
    },
    {
      "cell_type": "code",
      "metadata": {
        "id": "eCuvcZFSR7C_"
      },
      "source": [
        "# 4.4 Get weights and biases of Ist hidden layer\n",
        "weights,biases = first_hid_layer.get_weights()"
      ],
      "execution_count": null,
      "outputs": []
    },
    {
      "cell_type": "code",
      "metadata": {
        "colab": {
          "base_uri": "https://localhost:8080/"
        },
        "id": "hH0lPjcqWw1-",
        "outputId": "82f0ccca-9c14-4e99-9203-27409d8ff21a"
      },
      "source": [
        "# 4.5 Print \n",
        "weights\n",
        "weights.shape    # (784, 100)"
      ],
      "execution_count": null,
      "outputs": [
        {
          "output_type": "execute_result",
          "data": {
            "text/plain": [
              "array([[ 0.0141742 , -0.00051967,  0.0761357 , ..., -0.09371508,\n",
              "        -0.02644266, -0.07952755],\n",
              "       [ 0.13392708, -0.02529809, -0.0294985 , ...,  0.2056544 ,\n",
              "        -0.03780637,  0.05729332],\n",
              "       [-0.09002786, -0.01895789,  0.08681895, ..., -0.20031129,\n",
              "        -0.13162978, -0.07739589],\n",
              "       ...,\n",
              "       [-0.02499189, -0.09643307, -0.09852639, ..., -0.01116754,\n",
              "        -0.12091494, -0.06931597],\n",
              "       [-0.12909023,  0.112289  ,  0.05523759, ...,  0.12408387,\n",
              "        -0.21399146, -0.15751775],\n",
              "       [ 0.09148147, -0.04338973, -0.01507076, ...,  0.04983028,\n",
              "        -0.07441676, -0.07755198]], dtype=float32)"
            ]
          },
          "metadata": {
            "tags": []
          },
          "execution_count": 22
        },
        {
          "output_type": "execute_result",
          "data": {
            "text/plain": [
              "(100, 100)"
            ]
          },
          "metadata": {
            "tags": []
          },
          "execution_count": 22
        }
      ]
    },
    {
      "cell_type": "code",
      "metadata": {
        "colab": {
          "base_uri": "https://localhost:8080/",
          "height": 357
        },
        "id": "G1Jr-irj4ASZ",
        "outputId": "db7f6c05-898a-496a-be1f-3d94ed12029c"
      },
      "source": [
        "# 5.0 Let us draw a histogram of weights\n",
        "#     arriving at IInd neuron in the hidden layer\n",
        "import matplotlib.pyplot as plt\n",
        "fig = plt.figure()\n",
        "ax = fig.add_subplot(1,1,1)\n",
        "ax.hist(weights[1])"
      ],
      "execution_count": null,
      "outputs": [
        {
          "output_type": "execute_result",
          "data": {
            "text/plain": [
              "(array([ 1.,  5., 10., 14., 16., 12., 19., 11.,  6.,  6.]),\n",
              " array([-0.22227587, -0.17752063, -0.13276541, -0.08801018, -0.04325496,\n",
              "         0.00150027,  0.0462555 ,  0.09101073,  0.13576595,  0.18052119,\n",
              "         0.22527641], dtype=float32),\n",
              " <a list of 10 Patch objects>)"
            ]
          },
          "metadata": {
            "tags": []
          },
          "execution_count": 23
        },
        {
          "output_type": "display_data",
          "data": {
            "image/png": "[encoded data removed]",
            "text/plain": [
              "<Figure size 432x288 with 1 Axes>"
            ]
          },
          "metadata": {
            "tags": [],
            "needs_background": "light"
          }
        }
      ]
    },
    {
      "cell_type": "code",
      "metadata": {
        "colab": {
          "base_uri": "https://localhost:8080/"
        },
        "id": "E5w4Y8kuW4M0",
        "outputId": "a726540a-21d6-418c-f2e1-9219652246c5"
      },
      "source": [
        "# 5.1 Print biases\n",
        "biases\n",
        "biases.shape    # (100,)"
      ],
      "execution_count": null,
      "outputs": [
        {
          "output_type": "execute_result",
          "data": {
            "text/plain": [
              "array([0., 0., 0., 0., 0., 0., 0., 0., 0., 0., 0., 0., 0., 0., 0., 0., 0.,\n",
              "       0., 0., 0., 0., 0., 0., 0., 0., 0., 0., 0., 0., 0., 0., 0., 0., 0.,\n",
              "       0., 0., 0., 0., 0., 0., 0., 0., 0., 0., 0., 0., 0., 0., 0., 0., 0.,\n",
              "       0., 0., 0., 0., 0., 0., 0., 0., 0., 0., 0., 0., 0., 0., 0., 0., 0.,\n",
              "       0., 0., 0., 0., 0., 0., 0., 0., 0., 0., 0., 0., 0., 0., 0., 0., 0.,\n",
              "       0., 0., 0., 0., 0., 0., 0., 0., 0., 0., 0., 0., 0., 0., 0.],\n",
              "      dtype=float32)"
            ]
          },
          "metadata": {
            "tags": []
          },
          "execution_count": 24
        },
        {
          "output_type": "execute_result",
          "data": {
            "text/plain": [
              "(100,)"
            ]
          },
          "metadata": {
            "tags": []
          },
          "execution_count": 24
        }
      ]
    },
    {
      "cell_type": "code",
      "metadata": {
        "id": "hUdFe-PUZKTX"
      },
      "source": [
        "# 6.0 Finally compile the model\n",
        "model.compile(\n",
        "               loss = 'sparse_categorical_crossentropy',\n",
        "               optimizer = 'rmsprop',   # This is the default\n",
        "               metrics = ['accuracy']\n",
        "              )"
      ],
      "execution_count": null,
      "outputs": []
    },
    {
      "cell_type": "code",
      "metadata": {
        "colab": {
          "base_uri": "https://localhost:8080/"
        },
        "id": "RLMvL1hpdWfU",
        "outputId": "ab253c65-98d7-4b10-ea0b-79a081775d92"
      },
      "source": [
        "# 6.1 Train the model now\n",
        "model.fit(\n",
        "           x_train,y_train,\n",
        "           epochs = 10,\n",
        "           verbose = 1\n",
        "          )"
      ],
      "execution_count": null,
      "outputs": [
        {
          "output_type": "stream",
          "text": [
            "Epoch 1/10\n",
            "1875/1875 [==============================] - 4s 2ms/step - loss: 0.6565 - accuracy: 0.7591\n",
            "Epoch 2/10\n",
            "1875/1875 [==============================] - 4s 2ms/step - loss: 0.3994 - accuracy: 0.8555\n",
            "Epoch 3/10\n",
            "1875/1875 [==============================] - 4s 2ms/step - loss: 0.3640 - accuracy: 0.8696\n",
            "Epoch 4/10\n",
            "1875/1875 [==============================] - 4s 2ms/step - loss: 0.3520 - accuracy: 0.8752\n",
            "Epoch 5/10\n",
            "1875/1875 [==============================] - 4s 2ms/step - loss: 0.3590 - accuracy: 0.8722\n",
            "Epoch 6/10\n",
            "1875/1875 [==============================] - 4s 2ms/step - loss: 0.3508 - accuracy: 0.8786\n",
            "Epoch 7/10\n",
            "1875/1875 [==============================] - 4s 2ms/step - loss: 0.3547 - accuracy: 0.8785\n",
            "Epoch 8/10\n",
            "1875/1875 [==============================] - 4s 2ms/step - loss: 0.3478 - accuracy: 0.8780\n",
            "Epoch 9/10\n",
            "1875/1875 [==============================] - 4s 2ms/step - loss: 0.3573 - accuracy: 0.8789\n",
            "Epoch 10/10\n",
            "1875/1875 [==============================] - 4s 2ms/step - loss: 0.3419 - accuracy: 0.8833\n"
          ],
          "name": "stdout"
        },
        {
          "output_type": "execute_result",
          "data": {
            "text/plain": [
              "<tensorflow.python.keras.callbacks.History at 0x7f19fb0f44a8>"
            ]
          },
          "metadata": {
            "tags": []
          },
          "execution_count": 27
        }
      ]
    },
    {
      "cell_type": "markdown",
      "metadata": {
        "id": "w9fjUEkl7-HV"
      },
      "source": [
        "**Tuning a keras model**<br>\n",
        "> Step1: Build NN model with one argument, 'hp'<br>\n",
        "> Step2: Design/instantiate keras-tuner<br>\n",
        "> Step3: Run/execute tuner <br>\n",
        "> Step4: Print results"
      ]
    },
    {
      "cell_type": "code",
      "metadata": {
        "id": "QfikqZWMdseL"
      },
      "source": [
        "# 7.0 Define a function that builds NN model\n",
        "# and returns an NN model. It takes one argument\n",
        "\n",
        "def build_model(hp):\n",
        "   \"\"\"Basic case:\n",
        "      - We define a `build_model` function\n",
        "      - It returns a compiled model\n",
        "      - It uses hyperparameters defined on the fly\n",
        "   \"\"\"\n",
        "   # 7.1 How many neurons in Ist hidden layer \n",
        "   n_size1 = hp.Int('n_size1', 32, 200, default=64)\n",
        "   # 7.2 How many neurons in IInd hidden layer \n",
        "   n_size2 = hp.Int('n_size2', 32, 200, default=64)\n",
        "   # 7.3 Extent of dropout\n",
        "   dropout1 = hp.Float('dropout1', 0, 0.5, step=0.1, default=0.5)\n",
        "   dropout2 = hp.Float('dropout2', 0, 0.5, step=0.1, default=0.5)\n",
        "   activation = hp.Choice('activation' , ['relu', 'tanh'])\n",
        "   model = keras.models.Sequential(\n",
        "                                    [\n",
        "                                      keras.layers.Flatten(input_shape = [28,28]),\n",
        "                                      keras.layers.Dense(n_size1,activation = activation),\n",
        "                                      keras.layers.Dropout(dropout1),\n",
        "                                      keras.layers.Dense(n_size2,activation = activation),\n",
        "                                      keras.layers.Dropout(dropout2),\n",
        "                                      keras.layers.Dense(10, activation = \"softmax\")\n",
        "                                    ]\n",
        "                                  )\n",
        "   model.compile(\n",
        "                 loss = 'sparse_categorical_crossentropy',\n",
        "                 optimizer=keras.optimizers.Adam(\n",
        "                                                   hp.Choice('learning_rate', values=[1e-2, 1e-3, 1e-4])\n",
        "                                                 ),\n",
        "                 metrics = ['accuracy'])\n",
        "   return model"
      ],
      "execution_count": null,
      "outputs": []
    },
    {
      "cell_type": "markdown",
      "metadata": {
        "id": "z5yzvG9vYhYE"
      },
      "source": [
        "**Design tuner**<br>\n",
        "Instantiate a tuner<br>\n",
        "(Three methods)<br>\n",
        "> In the tuner(), you should specify the model-building function (*build()*), the name of the *objective* to optimize (whether to minimize or maximize is automatically inferred for built-in metrics), the total number of trials (*max_trials*) to test, and the number of models that should be built and fit for each trial (*executions_per_trial*).<br><br>\n",
        "**Note**: the purpose of having multiple executions per trial is to reduce results variance and therefore be able to more accurately assess the performance of a model. Within a given *trial* (say, trial=20), an '*hp*' is created. For each '*execution_per_trial*', *build()* is called and the same '*hp*' is passed. But selected parameter values by the same '*hp*' can be different. If you want to get results faster, you could set executions_per_trial=1 (single round of training for each model configuration)."
      ]
    },
    {
      "cell_type": "code",
      "metadata": {
        "colab": {
          "base_uri": "https://localhost:8080/"
        },
        "id": "saC8XjVGXaOH",
        "outputId": "75c5bc0d-8530-4120-c831-fb8642648ee8"
      },
      "source": [
        "# 8.1 Method 1\n",
        "# Tune by pure random search\n",
        "# What is 'executions_per_trial'\n",
        "#  See: https://datascience.stackexchange.com/a/72292/64849\n",
        "tuner_r = kt.RandomSearch(\n",
        "                        build_model,              # Keras model to train\n",
        "                        objective='val_accuracy', # Maximise/Minimise objective \n",
        "                        seed = 123,\n",
        "                        max_trials = 5,           # Total number of trials to test at most.\n",
        "                        executions_per_trial= 3,  # For each trial, run as many executions\n",
        "                                                  # as in execution_per_trial. Given the randomness that\n",
        "                                                  # exist in the optimization process, there may be some variation in\n",
        "                                                  # the set of parameter selected by 'hp'. Final results could be very\n",
        "                                                  # different. For each trial and execution, the tuner will fit the\n",
        "                                                  #  model with as many epochs as you configure in the script.\n",
        "                        directory='random_search',\n",
        "                        overwrite=True,           # Overwrite results of last 'tuner'\n",
        "                        project_name='fashion_mnist'\n",
        "                      )"
      ],
      "execution_count": null,
      "outputs": [
        {
          "output_type": "stream",
          "text": [
            "WARNING:tensorflow:Unresolved object in checkpoint: (root).optimizer.iter\n",
            "WARNING:tensorflow:Unresolved object in checkpoint: (root).optimizer.beta_1\n",
            "WARNING:tensorflow:Unresolved object in checkpoint: (root).optimizer.beta_2\n",
            "WARNING:tensorflow:Unresolved object in checkpoint: (root).optimizer.decay\n",
            "WARNING:tensorflow:Unresolved object in checkpoint: (root).optimizer.learning_rate\n",
            "WARNING:tensorflow:A checkpoint was restored (e.g. tf.train.Checkpoint.restore or tf.keras.Model.load_weights) but not all checkpointed values were used. See above for specific issues. Use expect_partial() on the load status object, e.g. tf.train.Checkpoint.restore(...).expect_partial(), to silence these warnings, or use assert_consumed() to make the check explicit. See https://www.tensorflow.org/guide/checkpoint#loading_mechanics for details.\n"
          ],
          "name": "stdout"
        }
      ]
    },
    {
      "cell_type": "code",
      "metadata": {
        "id": "PbJz7qHLe5uo"
      },
      "source": [
        "# 8.2 Method 2\n",
        "# Tune by optimized random search\n",
        "# Hyperband is an optimized version of \n",
        "# random search which uses early-stopping\n",
        "# to speed up the hyperparameter tuning process. \n",
        "# The main idea is to fit a large number of \n",
        "# models for a small number of epochs and to\n",
        "# only continue training for the models \n",
        "# achieving the highest accuracy on the \n",
        "# validation set. The max_epochs variable\n",
        "# is the max number of epochs that a model \n",
        "# can be trained for.\n",
        "\n",
        "tuner_h = kt.Hyperband(\n",
        "                     build_model,\n",
        "                     objective='val_accuracy',\n",
        "                     max_epochs=10,\n",
        "                     overwrite=True,            # Overwrite results of last 'tuner'\n",
        "                     hyperband_iterations=2\n",
        "                     )"
      ],
      "execution_count": null,
      "outputs": []
    },
    {
      "cell_type": "code",
      "metadata": {
        "id": "kp78sSmvQpXb"
      },
      "source": [
        "# 8.3 Method 3\n",
        "# Tune by Bayesian optimization\n",
        "# Same signatures as of RandomSearch()\n",
        "tuner_b = kt.tuners.BayesianOptimization(\n",
        "                                       build_model1,\n",
        "                                       objective='val_accuracy',\n",
        "                                       overwrite=True,  # Overwrite results of last 'tuner'\n",
        "                                       max_trials=5,\n",
        "                                       executions_per_trial= 3,\n",
        "                                       )"
      ],
      "execution_count": null,
      "outputs": []
    },
    {
      "cell_type": "code",
      "metadata": {
        "colab": {
          "base_uri": "https://localhost:8080/"
        },
        "id": "VZceCojksc4A",
        "outputId": "bf966ebd-eeb9-49cd-fc7e-8d750056245e"
      },
      "source": [
        "# 8.4 Once the model and the tuner are set up, \n",
        "#     a summary of the task is easily available:\n",
        "print(\"\\n1. Random Search space summary\")\n",
        "tuner_r.search_space_summary()\n",
        "print(\"\\n2. Hyperband Search space summary\")\n",
        "tuner_h.search_space_summary()\n",
        "print(\"\\n3. Bayesian Search space summary\")\n",
        "tuner_b.search_space_summary()\n"
      ],
      "execution_count": null,
      "outputs": [
        {
          "output_type": "stream",
          "text": [
            "\n",
            "Random Search space summary\n",
            "Search space summary\n",
            "Default search space size: 6\n",
            "n_size1 (Int)\n",
            "{'default': 64, 'conditions': [], 'min_value': 32, 'max_value': 200, 'step': 1, 'sampling': None}\n",
            "n_size2 (Int)\n",
            "{'default': 64, 'conditions': [], 'min_value': 32, 'max_value': 200, 'step': 1, 'sampling': None}\n",
            "dropout1 (Float)\n",
            "{'default': 0.5, 'conditions': [], 'min_value': 0.0, 'max_value': 0.5, 'step': 0.1, 'sampling': None}\n",
            "dropout2 (Float)\n",
            "{'default': 0.5, 'conditions': [], 'min_value': 0.0, 'max_value': 0.5, 'step': 0.1, 'sampling': None}\n",
            "activation (Choice)\n",
            "{'default': 'relu', 'conditions': [], 'values': ['relu', 'tanh'], 'ordered': False}\n",
            "learning_rate (Choice)\n",
            "{'default': 0.01, 'conditions': [], 'values': [0.01, 0.001, 0.0001], 'ordered': True}\n",
            "\n",
            "Hyperband Search space summary\n",
            "Search space summary\n",
            "Default search space size: 6\n",
            "n_size1 (Int)\n",
            "{'default': 64, 'conditions': [], 'min_value': 32, 'max_value': 200, 'step': 1, 'sampling': None}\n",
            "n_size2 (Int)\n",
            "{'default': 64, 'conditions': [], 'min_value': 32, 'max_value': 200, 'step': 1, 'sampling': None}\n",
            "dropout1 (Float)\n",
            "{'default': 0.5, 'conditions': [], 'min_value': 0.0, 'max_value': 0.5, 'step': 0.1, 'sampling': None}\n",
            "dropout2 (Float)\n",
            "{'default': 0.5, 'conditions': [], 'min_value': 0.0, 'max_value': 0.5, 'step': 0.1, 'sampling': None}\n",
            "activation (Choice)\n",
            "{'default': 'relu', 'conditions': [], 'values': ['relu', 'tanh'], 'ordered': False}\n",
            "learning_rate (Choice)\n",
            "{'default': 0.01, 'conditions': [], 'values': [0.01, 0.001, 0.0001], 'ordered': True}\n",
            "\n",
            "Bayesian Search space summary\n",
            "Search space summary\n",
            "Default search space size: 5\n",
            "n_size1 (Int)\n",
            "{'default': 64, 'conditions': [], 'min_value': 32, 'max_value': 200, 'step': 1, 'sampling': None}\n",
            "n_size2 (Int)\n",
            "{'default': 64, 'conditions': [], 'min_value': 32, 'max_value': 200, 'step': 1, 'sampling': None}\n",
            "dropout1 (Float)\n",
            "{'default': 0.5, 'conditions': [], 'min_value': 0.0, 'max_value': 0.5, 'step': 0.1, 'sampling': None}\n",
            "dropout2 (Float)\n",
            "{'default': 0.5, 'conditions': [], 'min_value': 0.0, 'max_value': 0.5, 'step': 0.1, 'sampling': None}\n",
            "activation (Choice)\n",
            "{'default': 'relu', 'conditions': [], 'values': ['relu', 'tanh'], 'ordered': False}\n"
          ],
          "name": "stdout"
        }
      ]
    },
    {
      "cell_type": "markdown",
      "metadata": {
        "id": "R3JhoFwjuCN_"
      },
      "source": [
        "**Start tuning**<br>\n",
        "Invoke search() function<br>\n",
        "> Here's what happens in search(): models are built iteratively by calling the model-building function, which populates the hyperparameter space (search space) tracked by the '*hp*' object. *Each call to build() may set different parameter combination.* The tuner progressively explores the space, recording metrics for each configuration."
      ]
    },
    {
      "cell_type": "code",
      "metadata": {
        "colab": {
          "base_uri": "https://localhost:8080/"
        },
        "id": "CBTKlYv0fLc8",
        "outputId": "fc548a31-8df9-4657-b32b-402a9ee71ff2"
      },
      "source": [
        "# 9.0 Start tuning\n",
        "# This is common to all three methods of tuning\n",
        "# The call to search has the same signature as model.fit()\n",
        "# Here's what happens in search: models are built iteratively\n",
        "#  by calling the model-building function, which populates the\n",
        "#   hyperparameter space (search space) tracked by the hp object. \n",
        "#     The tuner progressively explores the space, recording metrics\n",
        "#       for each configuration.\n",
        "\n",
        "# Total elapsed time: 00h 04m 46s\n",
        "\n",
        "tuner_r.search(\n",
        "             x_train,y_train,\n",
        "             validation_data=(x_test,y_test),\n",
        "             epochs=5,  # For each max_trials (5), \n",
        "                        #   there are sub-trials (3). \n",
        "                        #    For each sub-trial, 5-epochs\n",
        "                        #     To speed         \n",
        "             callbacks=[\n",
        "                        tf.keras.callbacks.EarlyStopping(patience=1)   # The more the patience more the epochs\n",
        "                        ] \n",
        "             )"
      ],
      "execution_count": null,
      "outputs": [
        {
          "output_type": "stream",
          "text": [
            "Trial 5 Complete [00h 01m 16s]\n",
            "val_accuracy: 0.8705333272616068\n",
            "\n",
            "Best val_accuracy So Far: 0.8709333340326945\n",
            "Total elapsed time: 00h 04m 46s\n",
            "INFO:tensorflow:Oracle triggered exit\n"
          ],
          "name": "stdout"
        }
      ]
    },
    {
      "cell_type": "code",
      "metadata": {
        "colab": {
          "base_uri": "https://localhost:8080/"
        },
        "id": "PORLW6rq6ZJL",
        "outputId": "e8e65950-fe05-4ebc-ac29-40becd917a49"
      },
      "source": [
        "# 9.1 Tuning through Hyperband search\n",
        "#     Number of trials may be upto 60\n",
        "\n",
        "# Total elapsed time: 00h 14m 00s\n",
        "\n",
        "tuner_h.search(x_train,y_train,\n",
        "             validation_data=(x_test,y_test),\n",
        "             epochs=10,\n",
        "             callbacks=[\n",
        "                        tf.keras.callbacks.EarlyStopping(patience=1)\n",
        "                        ] \n",
        "             )"
      ],
      "execution_count": null,
      "outputs": [
        {
          "output_type": "stream",
          "text": [
            "Trial 60 Complete [00h 00m 38s]\n",
            "val_accuracy: 0.868399977684021\n",
            "\n",
            "Best val_accuracy So Far: 0.8770999908447266\n",
            "Total elapsed time: 00h 14m 00s\n",
            "INFO:tensorflow:Oracle triggered exit\n"
          ],
          "name": "stdout"
        }
      ]
    },
    {
      "cell_type": "code",
      "metadata": {
        "colab": {
          "base_uri": "https://localhost:8080/"
        },
        "id": "qHd-5Vgj6c_2",
        "outputId": "008458b7-35d5-43b6-94a6-1b54a6715677"
      },
      "source": [
        "# 9.2 Tuning through Bayesian search\n",
        "\n",
        "# Total elapsed time: 00h 03m 34s\n",
        "\n",
        "tuner_b.search(x_train,y_train,\n",
        "             validation_data=(x_test,y_test),\n",
        "             epochs=10,\n",
        "             callbacks=[\n",
        "                        tf.keras.callbacks.EarlyStopping(patience=1)\n",
        "                        ] \n",
        "             )"
      ],
      "execution_count": null,
      "outputs": [
        {
          "output_type": "stream",
          "text": [
            "Trial 5 Complete [00h 00m 40s]\n",
            "val_accuracy: 0.8626000086466471\n",
            "\n",
            "Best val_accuracy So Far: 0.8626000086466471\n",
            "Total elapsed time: 00h 03m 34s\n",
            "INFO:tensorflow:Oracle triggered exit\n"
          ],
          "name": "stdout"
        }
      ]
    },
    {
      "cell_type": "code",
      "metadata": {
        "id": "MkB_kbJOLbfX",
        "colab": {
          "base_uri": "https://localhost:8080/"
        },
        "outputId": "8d00f549-8733-498e-a4af-ffcdf0f0c033"
      },
      "source": [
        "# Show a summary of the RandomSearch space\n",
        "print(\"\\n1. Random Search results summary\")\n",
        "tuner_r.results_summary()\n",
        "print(\"\\n2. Hyperband results summary\")\n",
        "tuner_h.results_summary()\n",
        "print(\"\\n3. Bayesian results summary\")\n",
        "tuner_b.results_summary()"
      ],
      "execution_count": null,
      "outputs": [
        {
          "output_type": "stream",
          "text": [
            "\n",
            "1. Random Search results summary\n",
            "Results summary\n",
            "Results in random_search/fashion_mnist\n",
            "Showing 10 best trials\n",
            "Objective(name='val_accuracy', direction='max')\n",
            "Trial summary\n",
            "Hyperparameters:\n",
            "n_size1: 130\n",
            "n_size2: 119\n",
            "dropout1: 0.2\n",
            "dropout2: 0.2\n",
            "activation: tanh\n",
            "learning_rate: 0.001\n",
            "Score: 0.8709333340326945\n",
            "Trial summary\n",
            "Hyperparameters:\n",
            "n_size1: 134\n",
            "n_size2: 100\n",
            "dropout1: 0.0\n",
            "dropout2: 0.4\n",
            "activation: tanh\n",
            "learning_rate: 0.001\n",
            "Score: 0.8705333272616068\n",
            "Trial summary\n",
            "Hyperparameters:\n",
            "n_size1: 144\n",
            "n_size2: 129\n",
            "dropout1: 0.0\n",
            "dropout2: 0.1\n",
            "activation: relu\n",
            "learning_rate: 0.01\n",
            "Score: 0.8347333470980326\n",
            "Trial summary\n",
            "Hyperparameters:\n",
            "n_size1: 119\n",
            "n_size2: 130\n",
            "dropout1: 0.5\n",
            "dropout2: 0.2\n",
            "activation: tanh\n",
            "learning_rate: 0.01\n",
            "Score: 0.7450666824976603\n",
            "Trial summary\n",
            "Hyperparameters:\n",
            "n_size1: 41\n",
            "n_size2: 193\n",
            "dropout1: 0.5\n",
            "dropout2: 0.30000000000000004\n",
            "activation: relu\n",
            "learning_rate: 0.01\n",
            "Score: 0.568933347860972\n",
            "\n",
            "2. Hyperband results summary\n",
            "Results summary\n",
            "Results in ./untitled_project\n",
            "Showing 10 best trials\n",
            "Objective(name='val_accuracy', direction='max')\n",
            "Trial summary\n",
            "Hyperparameters:\n",
            "n_size1: 139\n",
            "n_size2: 100\n",
            "dropout1: 0.1\n",
            "dropout2: 0.30000000000000004\n",
            "activation: relu\n",
            "learning_rate: 0.001\n",
            "tuner/epochs: 10\n",
            "tuner/initial_epoch: 4\n",
            "tuner/bracket: 2\n",
            "tuner/round: 2\n",
            "tuner/trial_id: 75d700957a0dd4348797f922b451e4b4\n",
            "Score: 0.8770999908447266\n",
            "Trial summary\n",
            "Hyperparameters:\n",
            "n_size1: 145\n",
            "n_size2: 55\n",
            "dropout1: 0.1\n",
            "dropout2: 0.2\n",
            "activation: relu\n",
            "learning_rate: 0.001\n",
            "tuner/epochs: 10\n",
            "tuner/initial_epoch: 0\n",
            "tuner/bracket: 0\n",
            "tuner/round: 0\n",
            "Score: 0.8766000270843506\n",
            "Trial summary\n",
            "Hyperparameters:\n",
            "n_size1: 151\n",
            "n_size2: 178\n",
            "dropout1: 0.0\n",
            "dropout2: 0.1\n",
            "activation: relu\n",
            "learning_rate: 0.001\n",
            "tuner/epochs: 10\n",
            "tuner/initial_epoch: 4\n",
            "tuner/bracket: 1\n",
            "tuner/round: 1\n",
            "tuner/trial_id: ba8254969b2ba224205653e27e59e62c\n",
            "Score: 0.8741999864578247\n",
            "Trial summary\n",
            "Hyperparameters:\n",
            "n_size1: 55\n",
            "n_size2: 152\n",
            "dropout1: 0.0\n",
            "dropout2: 0.0\n",
            "activation: tanh\n",
            "learning_rate: 0.001\n",
            "tuner/epochs: 10\n",
            "tuner/initial_epoch: 4\n",
            "tuner/bracket: 2\n",
            "tuner/round: 2\n",
            "tuner/trial_id: bc55f57e75e1ff7d967bec3ba7a12015\n",
            "Score: 0.8719000220298767\n",
            "Trial summary\n",
            "Hyperparameters:\n",
            "n_size1: 78\n",
            "n_size2: 158\n",
            "dropout1: 0.2\n",
            "dropout2: 0.1\n",
            "activation: tanh\n",
            "learning_rate: 0.001\n",
            "tuner/epochs: 10\n",
            "tuner/initial_epoch: 4\n",
            "tuner/bracket: 2\n",
            "tuner/round: 2\n",
            "tuner/trial_id: 62834782e8715b7bca764d2818f4e6d9\n",
            "Score: 0.8715000152587891\n",
            "Trial summary\n",
            "Hyperparameters:\n",
            "n_size1: 109\n",
            "n_size2: 64\n",
            "dropout1: 0.30000000000000004\n",
            "dropout2: 0.0\n",
            "activation: relu\n",
            "learning_rate: 0.001\n",
            "tuner/epochs: 10\n",
            "tuner/initial_epoch: 4\n",
            "tuner/bracket: 1\n",
            "tuner/round: 1\n",
            "tuner/trial_id: 38bd8fcb9d6c684512cf35865a4f0476\n",
            "Score: 0.8707000017166138\n",
            "Trial summary\n",
            "Hyperparameters:\n",
            "n_size1: 150\n",
            "n_size2: 58\n",
            "dropout1: 0.30000000000000004\n",
            "dropout2: 0.30000000000000004\n",
            "activation: relu\n",
            "learning_rate: 0.001\n",
            "tuner/epochs: 10\n",
            "tuner/initial_epoch: 0\n",
            "tuner/bracket: 0\n",
            "tuner/round: 0\n",
            "Score: 0.8698999881744385\n",
            "Trial summary\n",
            "Hyperparameters:\n",
            "n_size1: 98\n",
            "n_size2: 92\n",
            "dropout1: 0.2\n",
            "dropout2: 0.30000000000000004\n",
            "activation: relu\n",
            "learning_rate: 0.0001\n",
            "tuner/epochs: 10\n",
            "tuner/initial_epoch: 0\n",
            "tuner/bracket: 0\n",
            "tuner/round: 0\n",
            "Score: 0.868399977684021\n",
            "Trial summary\n",
            "Hyperparameters:\n",
            "n_size1: 109\n",
            "n_size2: 64\n",
            "dropout1: 0.30000000000000004\n",
            "dropout2: 0.0\n",
            "activation: relu\n",
            "learning_rate: 0.001\n",
            "tuner/epochs: 4\n",
            "tuner/initial_epoch: 0\n",
            "tuner/bracket: 1\n",
            "tuner/round: 0\n",
            "Score: 0.8679999709129333\n",
            "Trial summary\n",
            "Hyperparameters:\n",
            "n_size1: 182\n",
            "n_size2: 75\n",
            "dropout1: 0.2\n",
            "dropout2: 0.30000000000000004\n",
            "activation: tanh\n",
            "learning_rate: 0.001\n",
            "tuner/epochs: 10\n",
            "tuner/initial_epoch: 4\n",
            "tuner/bracket: 1\n",
            "tuner/round: 1\n",
            "tuner/trial_id: 7cfde78c350bbbc8c7fc9a70c6fe60f1\n",
            "Score: 0.8669000267982483\n",
            "\n",
            "3. Bayesian results summary\n",
            "Results summary\n",
            "Results in ./untitled_project\n",
            "Showing 10 best trials\n",
            "Objective(name='val_accuracy', direction='max')\n",
            "Trial summary\n",
            "Hyperparameters:\n",
            "n_size1: 106\n",
            "n_size2: 32\n",
            "dropout1: 0.0\n",
            "dropout2: 0.0\n",
            "activation: tanh\n",
            "Score: 0.8626000086466471\n",
            "Trial summary\n",
            "Hyperparameters:\n",
            "n_size1: 33\n",
            "n_size2: 133\n",
            "dropout1: 0.1\n",
            "dropout2: 0.0\n",
            "activation: tanh\n",
            "Score: 0.8607000112533569\n",
            "Trial summary\n",
            "Hyperparameters:\n",
            "n_size1: 136\n",
            "n_size2: 137\n",
            "dropout1: 0.2\n",
            "dropout2: 0.2\n",
            "activation: relu\n",
            "Score: 0.859499990940094\n",
            "Trial summary\n",
            "Hyperparameters:\n",
            "n_size1: 186\n",
            "n_size2: 45\n",
            "dropout1: 0.0\n",
            "dropout2: 0.4\n",
            "activation: relu\n",
            "Score: 0.850766658782959\n",
            "Trial summary\n",
            "Hyperparameters:\n",
            "n_size1: 43\n",
            "n_size2: 159\n",
            "dropout1: 0.5\n",
            "dropout2: 0.30000000000000004\n",
            "activation: relu\n",
            "Score: 0.8334333300590515\n"
          ],
          "name": "stdout"
        }
      ]
    },
    {
      "cell_type": "code",
      "metadata": {
        "id": "zSnIHcxC2v62"
      },
      "source": [
        "# 10.0 Retrieve the best model.\n",
        "best_model_r = tuner_r.get_best_models(num_models=1)[0]\n",
        "best_model_h = tuner_h.get_best_models(num_models=1)[0]\n",
        "best_model_b = tuner_b.get_best_models(num_models=1)[0]"
      ],
      "execution_count": null,
      "outputs": []
    },
    {
      "cell_type": "code",
      "metadata": {
        "colab": {
          "base_uri": "https://localhost:8080/"
        },
        "id": "zzDSIhva91OZ",
        "outputId": "e52dcd2a-46ad-4b6f-a4ab-990ec2a7997d"
      },
      "source": [
        "print(\"\\n1. Random Search best model\")\n",
        "best_model_r\n",
        "print(\"\\n2. Hyperband results best model\")\n",
        "best_model_h\n",
        "print(\"\\n3. Bayesian results best model\")\n",
        "best_model_b"
      ],
      "execution_count": null,
      "outputs": [
        {
          "output_type": "stream",
          "text": [
            "\n",
            "1. Random Search best model\n"
          ],
          "name": "stdout"
        },
        {
          "output_type": "execute_result",
          "data": {
            "text/plain": [
              "<tensorflow.python.keras.engine.sequential.Sequential at 0x7f19f8944470>"
            ]
          },
          "metadata": {
            "tags": []
          },
          "execution_count": 80
        },
        {
          "output_type": "stream",
          "text": [
            "\n",
            "2. Hyperband results best model\n"
          ],
          "name": "stdout"
        },
        {
          "output_type": "execute_result",
          "data": {
            "text/plain": [
              "<tensorflow.python.keras.engine.sequential.Sequential at 0x7f19f7e70940>"
            ]
          },
          "metadata": {
            "tags": []
          },
          "execution_count": 80
        },
        {
          "output_type": "stream",
          "text": [
            "\n",
            "3. Bayesian results best model\n"
          ],
          "name": "stdout"
        },
        {
          "output_type": "execute_result",
          "data": {
            "text/plain": [
              "<tensorflow.python.keras.engine.sequential.Sequential at 0x7f19f8946cf8>"
            ]
          },
          "metadata": {
            "tags": []
          },
          "execution_count": 80
        }
      ]
    },
    {
      "cell_type": "code",
      "metadata": {
        "colab": {
          "base_uri": "https://localhost:8080/"
        },
        "id": "QI7hjcP11rzG",
        "outputId": "1d4701b0-4b78-4ed6-8700-e7b0aa1761b4"
      },
      "source": [
        "# 10.1 Evaluate the best model.\n",
        "loss_r, accuracy_r = best_model_r.evaluate(x_test, y_test)\n",
        "loss_h, accuracy_h = best_model_h.evaluate(x_test, y_test)\n",
        "loss_b, accuracy_b = best_model_b.evaluate(x_test, y_test) "
      ],
      "execution_count": null,
      "outputs": [
        {
          "output_type": "stream",
          "text": [
            "313/313 [==============================] - 1s 1ms/step - loss: 0.3418 - accuracy: 0.8793\n",
            "313/313 [==============================] - 1s 1ms/step - loss: 0.3455 - accuracy: 0.8776\n",
            "313/313 [==============================] - 0s 956us/step - loss: 0.3668 - accuracy: 0.8667\n"
          ],
          "name": "stdout"
        }
      ]
    },
    {
      "cell_type": "code",
      "metadata": {
        "colab": {
          "base_uri": "https://localhost:8080/"
        },
        "id": "GFe1H6tvBrkR",
        "outputId": "b3c131be-cb03-48a4-9b30-9e8cc4aedceb"
      },
      "source": [
        "print(\"\\n1. Random Search Evaluation\")\n",
        "loss_r, accuracy_r\n",
        "print(\"\\n2. Hyperband results Evaluation\")\n",
        "loss_h, accuracy_h\n",
        "print(\"\\n3. Bayesian results Evaluation\")\n",
        "loss_b, accuracy_b"
      ],
      "execution_count": null,
      "outputs": [
        {
          "output_type": "stream",
          "text": [
            "\n",
            "1. Random Search Evaluation\n"
          ],
          "name": "stdout"
        },
        {
          "output_type": "execute_result",
          "data": {
            "text/plain": [
              "(0.3468863368034363, 0.8781999945640564)"
            ]
          },
          "metadata": {
            "tags": []
          },
          "execution_count": 83
        },
        {
          "output_type": "stream",
          "text": [
            "\n",
            "2. Hyperband results Evaluation\n"
          ],
          "name": "stdout"
        },
        {
          "output_type": "execute_result",
          "data": {
            "text/plain": [
              "(0.3468409776687622, 0.8770999908447266)"
            ]
          },
          "metadata": {
            "tags": []
          },
          "execution_count": 83
        },
        {
          "output_type": "stream",
          "text": [
            "\n",
            "3. Bayesian results Evaluation\n"
          ],
          "name": "stdout"
        },
        {
          "output_type": "execute_result",
          "data": {
            "text/plain": [
              "(0.370449036359787, 0.867900013923645)"
            ]
          },
          "metadata": {
            "tags": []
          },
          "execution_count": 83
        }
      ]
    },
    {
      "cell_type": "code",
      "metadata": {
        "id": "wCCm8m1F--7O"
      },
      "source": [
        "####### I am done ########################"
      ],
      "execution_count": null,
      "outputs": []
    }
  ]
}